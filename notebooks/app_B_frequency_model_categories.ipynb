{
 "cells": [
  {
   "cell_type": "markdown",
   "id": "997784178aab8304",
   "metadata": {},
   "source": [
    "## Notebook to visualize the frequency of models in different categories"
   ]
  },
  {
   "cell_type": "code",
   "execution_count": 1,
   "id": "72cfa1c3-f664-4713-ab23-9127c296db83",
   "metadata": {},
   "outputs": [],
   "source": [
    "import matplotlib.pyplot as plt\n",
    "import pandas as pd\n",
    "import seaborn as sns\n",
    "\n",
    "from constants import (\n",
    "    BASE_PATH_RESULTS,\n",
    "    cat_name_mapping,\n",
    "    exclude_models,\n",
    "    model_cat_mapping,\n",
    "    model_categories,\n",
    "    model_config_file,\n",
    "    model_size_order,\n",
    "    fontsizes\n",
    ")\n",
    "from helper import (\n",
    "    load_model_configs_and_allowed_models,\n",
    "    pp_storing_path,\n",
    "    save_or_show\n",
    ")"
   ]
  },
  {
   "cell_type": "markdown",
   "id": "876f213387585546",
   "metadata": {},
   "source": [
    "#### Storing info"
   ]
  },
  {
   "cell_type": "code",
   "execution_count": null,
   "id": "7ac0528e-48ff-4e4c-abf6-45593b5f80ea",
   "metadata": {},
   "outputs": [],
   "source": [
    "SAVE = True\n",
    "storing_path = pp_storing_path(BASE_PATH_RESULTS / f'final/3_op/app_B_model_n_configs', SAVE)"
   ]
  },
  {
   "cell_type": "markdown",
   "id": "c17961d3aeb4c441",
   "metadata": {},
   "source": [
    "#### Load model configs"
   ]
  },
  {
   "cell_type": "code",
   "execution_count": null,
   "id": "70042f7b-2063-404e-b9b5-f26cd3cf9d54",
   "metadata": {},
   "outputs": [],
   "source": [
    "model_configs, allowed_models = load_model_configs_and_allowed_models(\n",
    "    path=model_config_file,\n",
    "    exclude_models=exclude_models,\n",
    "    exclude_alignment=True,\n",
    ")\n",
    "\n",
    "print(model_configs.shape, len(allowed_models))"
   ]
  },
  {
   "cell_type": "code",
   "execution_count": null,
   "id": "552fe361-4625-481b-a0aa-d9ca17181910",
   "metadata": {},
   "outputs": [],
   "source": [
    "for mcat in model_categories:\n",
    "    print(model_cat_mapping[mcat])\n",
    "    print(model_configs[mcat].value_counts().sort_index())\n",
    "    print()"
   ]
  },
  {
   "cell_type": "code",
   "execution_count": 5,
   "id": "4c8e9ad124265741",
   "metadata": {},
   "outputs": [],
   "source": [
    "for cat in model_categories:\n",
    "    model_configs[cat] = model_configs[cat].map(cat_name_mapping)"
   ]
  },
  {
   "cell_type": "markdown",
   "id": "2b83602a3b9f674e",
   "metadata": {},
   "source": [
    "#### Frequency of models in different categories"
   ]
  },
  {
   "cell_type": "code",
   "execution_count": null,
   "id": "2659993c-1f14-4c50-a638-c2222a3f5293",
   "metadata": {},
   "outputs": [],
   "source": [
    "fig, axs = plt.subplots(nrows=2, ncols=3, figsize=(3 * 3, 2 * 3))\n",
    "cnt = 0\n",
    "for i, mc1 in enumerate(model_categories):\n",
    "    for j, mc2 in enumerate(model_categories):\n",
    "        if i >= j:\n",
    "            continue\n",
    "        tmp = pd.pivot_table(model_configs.reset_index(), index=mc1, columns=mc2, values='index', aggfunc='count')\n",
    "        tmp[tmp.isna()] = 0\n",
    "        ax = axs[cnt // 3, cnt % 3]\n",
    "        if mc1 == 'size_class':\n",
    "            tmp = tmp.loc[model_size_order, :]\n",
    "        elif mc2 == 'size_class':\n",
    "            tmp = tmp.loc[:, model_size_order]\n",
    "\n",
    "        sns.heatmap(tmp, annot=True, ax=ax, cmap='Purples', cbar=False, annot_kws={'size': fontsizes['ticks']})\n",
    "\n",
    "        ax.set_title(f\"{model_cat_mapping[mc1]} vs. {model_cat_mapping[mc2]}\", fontsize=fontsizes['ticks'])\n",
    "        ax.set_xlabel('')\n",
    "        ax.set_ylabel('')\n",
    "        ax.tick_params('x', rotation=90, labelsize=fontsizes['ticks'])\n",
    "        ax.tick_params('y', rotation=0, labelsize=fontsizes['ticks'])\n",
    "        cnt += 1\n",
    "fig.tight_layout()\n",
    "save_or_show(fig, storing_path / f'frequency_model_categories_wo_alignment_no_model_duplicates.pdf', SAVE)"
   ]
  }
 ],
 "metadata": {
  "kernelspec": {
   "display_name": "diverse_priors",
   "language": "python",
   "name": "python3"
  },
  "language_info": {
   "codemirror_mode": {
    "name": "ipython",
    "version": 3
   },
   "file_extension": ".py",
   "mimetype": "text/x-python",
   "name": "python",
   "nbconvert_exporter": "python",
   "pygments_lexer": "ipython3",
   "version": "3.10.15"
  }
 },
 "nbformat": 4,
 "nbformat_minor": 5
}
