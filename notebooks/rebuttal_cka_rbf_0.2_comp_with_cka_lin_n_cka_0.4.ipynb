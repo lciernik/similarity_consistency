{
 "cells": [
  {
   "cell_type": "markdown",
   "id": "82a7ffa482d63197",
   "metadata": {},
   "source": [
    "<!-- ## Notebook for section 4.2: *Do representational similarities transfer across datasets?*\n",
    "This notebook creates the figures for the section 4.2. It shows the similarity matrices for three datasets (ImageNet-1k, Flowers, and PCAM) as well as the mean and std similarity matrices over all 23 datasets. Furthermore, it shows the mean vs. std scatter plot of the tan-transformed CKA linear values and the comparison of different similarity metrics. -->\n",
    "\n",
    "# TODO fill"
   ]
  },
  {
   "cell_type": "code",
   "execution_count": null,
   "id": "221cff81-a939-48c3-bb17-d2f9ed2cc37a",
   "metadata": {},
   "outputs": [],
   "source": [
    "import matplotlib.gridspec as gridspec\n",
    "import matplotlib.patches as patches\n",
    "import matplotlib.pyplot as plt\n",
    "import numpy as np\n",
    "import pandas as pd\n",
    "import seaborn as sns\n",
    "from scipy import stats\n",
    "from scipy.cluster.hierarchy import dendrogram, linkage\n",
    "\n",
    "from constants import (\n",
    "    BASE_PATH_PROJECT,\n",
    "    BASE_PATH_RESULTS,\n",
    "    ds_list_sim_file,\n",
    "    ds_list_sim_file_30k,\n",
    "    exclude_models,\n",
    "    exclude_models_w_mae,\n",
    "    fontsizes,\n",
    "    fontsizes_cols,\n",
    "    model_config_file,\n",
    "    sim_metric_name_mapping\n",
    ")\n",
    "from helper import (\n",
    "    get_fmt_name,\n",
    "    load_all_datasetnames_n_info,\n",
    "    load_model_configs_and_allowed_models,\n",
    "    load_similarity_matrices,\n",
    "    pp_storing_path,\n",
    "    save_or_show\n",
    ")\n",
    "ds_list_sim_file, BASE_PATH_RESULTS"
   ]
  },
  {
   "cell_type": "markdown",
   "id": "dce9462431f48339",
   "metadata": {},
   "source": [
    "#### Global variables"
   ]
  },
  {
   "cell_type": "code",
   "execution_count": null,
   "id": "3d502146-22b8-42e5-9355-3b5f779ebebc",
   "metadata": {},
   "outputs": [],
   "source": [
    "# Define the path to the similarity matrices\n",
    "# base_path_similarity_matrices = BASE_PATH_PROJECT / 'model_similarities'\n",
    "\n",
    "# Load used dataset names\n",
    "ds_list, ds_info = load_all_datasetnames_n_info(ds_list_sim_file, verbose=False)\n",
    "ds_list_30k, ds_info_30k = load_all_datasetnames_n_info(ds_list_sim_file_30k, verbose=False)\n",
    "\n",
    "# Define similarity metrics to be used\n",
    "sim_metrics = {\n",
    "    'cka_kernel_rbf_unbiased_sigma_0.2' : (BASE_PATH_PROJECT / 'model_similarities_rbf02', ds_list_30k),\n",
    "    'cka_kernel_rbf_unbiased_sigma_0.4' : (BASE_PATH_PROJECT / 'model_similarities', ds_list),\n",
    "    'cka_kernel_linear_unbiased': (BASE_PATH_PROJECT / 'model_similarities', ds_list),\n",
    "    'rsa_method_correlation_corr_method_spearman': (BASE_PATH_PROJECT / 'model_similarities', ds_list),\n",
    "}\n",
    "\n",
    "# Define model filtering suffix\n",
    "suffix = ''  # '_wo_mae'\n",
    "\n",
    "# Version\n",
    "version = 'arxiv'  #'arxiv'\n",
    "\n",
    "# Define storing information\n",
    "SAVE = True\n",
    "storing_path = pp_storing_path(BASE_PATH_RESULTS / 'plots' / 'experiment_with_rbf02' / 'mean_cka_comparison', SAVE)"
   ]
  },
  {
   "cell_type": "markdown",
   "id": "82e6f369c8df1536",
   "metadata": {},
   "source": [
    "#### Load data"
   ]
  },
  {
   "cell_type": "code",
   "execution_count": null,
   "id": "8c2daa51-0e4c-46c9-bdaa-c0e4cc582647",
   "metadata": {},
   "outputs": [],
   "source": [
    "# Load model configurations and allowed models\n",
    "curr_excl_models = []\n",
    "if suffix:\n",
    "    curr_excl_models = exclude_models_w_mae if 'mae' in suffix else exclude_models\n",
    "\n",
    "model_configs, allowed_models = load_model_configs_and_allowed_models(\n",
    "    path=model_config_file,\n",
    "    exclude_models=curr_excl_models,\n",
    "    exclude_alignment=True,\n",
    ")\n"
   ]
  },
  {
   "cell_type": "code",
   "execution_count": null,
   "id": "1d3b3a2c14b82691",
   "metadata": {},
   "outputs": [],
   "source": [
    "# Load similarity matrices\n",
    "sim_mats = {}\n",
    "for metric, (metric_path, curr_ds_list) in sim_metrics.items():\n",
    "    sim_mats[metric] = load_similarity_matrices(\n",
    "        path=metric_path,\n",
    "        ds_list=curr_ds_list,\n",
    "        sim_metrics=[metric],\n",
    "        allowed_models=allowed_models,\n",
    "    )[metric]"
   ]
  },
  {
   "cell_type": "markdown",
   "id": "3ce21ab9865bd9c9",
   "metadata": {},
   "source": [
    "#### Plotting helper functions"
   ]
  },
  {
   "cell_type": "code",
   "execution_count": null,
   "id": "1cbee446-f2b5-4e9e-9d8d-9a62cf36cd59",
   "metadata": {},
   "outputs": [],
   "source": [
    "def compute_ordering(sim_mat):\n",
    "    \"\"\"\n",
    "    Compute the ordering of the models in the similarity matrix based on the average linkage clustering.\n",
    "    \"\"\"\n",
    "    if not isinstance(sim_mat, pd.DataFrame):\n",
    "        sim_mat = pd.DataFrame(sim_mat)\n",
    "    dist_mat = 1 - sim_mat.values\n",
    "    upper_tri_indices = np.triu_indices_from(dist_mat, k=1)\n",
    "    linkage_matrix = linkage(dist_mat[upper_tri_indices], method='average')\n",
    "    idx_new = np.array(dendrogram(linkage_matrix)['leaves'])\n",
    "    plt.close()\n",
    "    return idx_new"
   ]
  },
  {
   "cell_type": "markdown",
   "id": "c3da4c4fd4bfde05",
   "metadata": {},
   "source": [
    "#### Compute the mean and std similarity matrices using the similarity matrices over all datasets and different preprocessing methods \n"
   ]
  },
  {
   "cell_type": "code",
   "execution_count": null,
   "id": "543353b78c3c8f8d",
   "metadata": {},
   "outputs": [],
   "source": [
    "mean_sim_mats = {}\n",
    "std_sim_mats = {}\n",
    "\n",
    "mean_tanh_sim_mats = {}\n",
    "std_tanh_sim_mats = {}\n",
    "\n",
    "mean_tan_sim_mats = {}\n",
    "std_tan_sim_mats = {}\n",
    "\n",
    "mean_arccos_sim_mats = {}\n",
    "std_arccos_sim_mats = {}\n",
    "\n",
    "ordering = {}\n",
    "\n",
    "\n",
    "def build_mean_std(df):\n",
    "    mean = pd.DataFrame(df.mean(axis=0), index=allowed_models, columns=allowed_models)\n",
    "    std = pd.DataFrame(df.std(axis=0), index=allowed_models, columns=allowed_models)\n",
    "    return mean, std\n",
    "\n",
    "\n",
    "for sim_metric in sim_metrics:\n",
    "    result = np.stack(list(sim_mats[sim_metric].values()), axis=0)\n",
    "    \n",
    "    mean_sim_mats[sim_metric], std_sim_mats[sim_metric] = build_mean_std(result)\n",
    "\n",
    "    ordering[sim_metric] = np.array(allowed_models)[compute_ordering(mean_sim_mats[sim_metric])]\n",
    "\n",
    "    mean_tanh_sim_mats[sim_metric], std_tanh_sim_mats[sim_metric] = build_mean_std(np.tanh(result))\n",
    "\n",
    "    mean_tan_sim_mats[sim_metric], std_tan_sim_mats[sim_metric] = build_mean_std(np.tan(result))\n",
    "    \n",
    "    mean_arccos_sim_mats[sim_metric], std_arccos_sim_mats[sim_metric] = build_mean_std(np.arccos(result))"
   ]
  },
  {
   "cell_type": "markdown",
   "id": "60c5fe1d-3c07-4ec2-a213-87e848363139",
   "metadata": {},
   "source": [
    "## Mean vs. STD scatter plot and comparison of different similarity metrics\n",
    "The frist scatter plot shows the mean vs. std of the tan-transformed CKA linear values. The other scatter plots show the mean values of between CKA linear and CKA RBF 0.4 (global vs. local) and CKA linear and RSA spearman."
   ]
  },
  {
   "cell_type": "code",
   "execution_count": null,
   "id": "49e9f6a4-f3ee-496b-bf4b-1dc13106e252",
   "metadata": {},
   "outputs": [],
   "source": [
    "curr_fontsizes = fontsizes if version == 'arxiv' else fontsizes_cols\n",
    "wspace = 0.3 if version == 'arxiv' else 0.35\n",
    "height = 2.7 if version == 'arxiv' else 3.1"
   ]
  },
  {
   "cell_type": "code",
   "execution_count": null,
   "id": "7c613042-a04a-4650-9f48-75f1152999f5",
   "metadata": {},
   "outputs": [],
   "source": [
    "combs = [\n",
    "    ('cka_kernel_linear_unbiased', 'cka_kernel_rbf_unbiased_sigma_0.4'),\n",
    "    ('cka_kernel_linear_unbiased', 'cka_kernel_rbf_unbiased_sigma_0.2'),\n",
    "    ('cka_kernel_rbf_unbiased_sigma_0.2', 'cka_kernel_rbf_unbiased_sigma_0.4'),\n",
    "    ('cka_kernel_linear_unbiased', 'rsa_method_correlation_corr_method_spearman')\n",
    "]"
   ]
  },
  {
   "cell_type": "code",
   "execution_count": null,
   "id": "6ed3e89d-e636-4bc0-b63e-db9deb094f29",
   "metadata": {},
   "outputs": [],
   "source": [
    "ncols = len(combs) + 1\n",
    "color_palette = sns.color_palette(\"viridis\", ncols)\n",
    "fig, axs = plt.subplots(nrows=1, ncols=ncols, figsize=(ncols * 4.1, height))\n",
    "\n",
    "# Mean vs. std on CKA linear\n",
    "ax = axs[0]\n",
    "\n",
    "## TAN results\n",
    "pp_type = '' \n",
    "kernel = 'cka_kernel_linear_unbiased' \n",
    "if pp_type == 'tan':\n",
    "    mean_res = mean_tan_sim_mats[kernel]\n",
    "    std_res = std_tan_sim_mats[kernel]\n",
    "    lbl_left =  f\"tan(CKA linear)\"\n",
    "elif pp_type == 'tanh':\n",
    "    mean_res = mean_tanh_sim_mats[kernel]\n",
    "    std_res = std_tanh_sim_mats[kernel]\n",
    "    lbl_left =  f\"tanh(CKA linear)\"\n",
    "elif pp_type == 'arccos':\n",
    "    mean_res = mean_arccos_sim_mats[kernel]\n",
    "    std_res = std_arccos_sim_mats[kernel]\n",
    "    lbl_left =  f\"arccos(CKA linear)\"\n",
    "elif not pp_type:\n",
    "    mean_res = mean_sim_mats[kernel]\n",
    "    std_res = std_sim_mats[kernel]\n",
    "    lbl_left =  f\"CKA linear\"\n",
    "else:\n",
    "    raise ValueError(f\"Unknown processing type of CKA values\")\n",
    "\n",
    "iu2 = np.triu_indices(mean_res.shape[0], k=1)\n",
    "\n",
    "sns.scatterplot(\n",
    "    x=mean_res.values[iu2],\n",
    "    y=std_res.values[iu2],\n",
    "    alpha=0.6,\n",
    "    ax=ax,\n",
    "    color=color_palette[0],\n",
    ")\n",
    "\n",
    "ax.set_xlabel(f'Mean {lbl_left}', fontsize=curr_fontsizes['label'])\n",
    "ax.set_ylabel(f'Std {lbl_left}', fontsize=curr_fontsizes['label'])\n",
    "ax.tick_params('both', labelsize=curr_fontsizes['ticks'])\n",
    "\n",
    "for i, (x, y) in enumerate(combs, start=1):\n",
    "    ax = axs[i]\n",
    "    mean_x = mean_sim_mats[x].values[iu2]\n",
    "    mean_y = mean_sim_mats[y].values[iu2]\n",
    "\n",
    "    sns.scatterplot(\n",
    "        x=mean_x,\n",
    "        y=mean_y,\n",
    "        alpha=0.6,\n",
    "        ax=ax,\n",
    "        color=color_palette[i],\n",
    "    )\n",
    "\n",
    "    ax.set_xlabel(f'Mean {sim_metric_name_mapping[x]}', fontsize=curr_fontsizes['label'])\n",
    "    ax.set_ylabel(f'Mean {sim_metric_name_mapping[y]}', fontsize=curr_fontsizes['label'])\n",
    "    ax.tick_params('both', labelsize=curr_fontsizes['ticks'])\n",
    "\n",
    "    corr, _ = stats.pearsonr(mean_x, mean_y)\n",
    "    ax.text(0.05, 0.95, f'r coeff.: {corr:.2f}', transform=ax.transAxes,\n",
    "            verticalalignment='top', fontsize=curr_fontsizes['label'])\n",
    "\n",
    "plt.tight_layout()\n",
    "plt.subplots_adjust(wspace=wspace)\n",
    "save_or_show(fig, storing_path / f'mean_std_{pp_type}_comp_local_global_scatter_plot{suffix}.pdf', SAVE)"
   ]
  },
  {
   "cell_type": "markdown",
   "id": "f99339b8-c770-478e-b289-abc3df8de780",
   "metadata": {},
   "source": [
    "## Does local or global similarity differ?"
   ]
  },
  {
   "cell_type": "code",
   "execution_count": null,
   "id": "0d441d5d-4074-40bb-9ba0-a89efaabb4c9",
   "metadata": {},
   "outputs": [],
   "source": [
    "# Datasets\n",
    "ds_list, ds_info = load_all_datasetnames_n_info(ds_list_sim_file, verbose=False)\n",
    "ds_list.append('imagenet-subset-30k')\n",
    "\n",
    "# Experiment configuration\n",
    "corr_type = 'spearmanr'  # 'pearsonr', 'spearmanr'\n",
    "suffix = ''  # '', '_wo_mae'\n",
    "\n",
    "# Path to correlation data\n",
    "data_path = BASE_PATH_RESULTS / f'aggregated/r_coeff_dist/with_cats_as_anchors/agg_{corr_type}_all_ds.csv'\n",
    "assert data_path.exists(), f'Path does not exist: {data_path}. Aggregated correlation coefficients across all dataset pairs not found, please run aggregate_consistencies_for_model_set_pairs.ipynb first.'\n",
    "\n",
    "## Version and plotting info\n",
    "version = 'arxiv'\n",
    "curr_fontsizes = fontsizes if version == 'arxiv' else fontsizes_cols\n",
    "\n",
    "storing_path = pp_storing_path(BASE_PATH_RESULTS / 'plots' / 'experiment_with_rbf02' / 'r_coeff_comparison', SAVE)"
   ]
  },
  {
   "cell_type": "code",
   "execution_count": null,
   "id": "cdd977f1-5d13-4717-a285-dbc1ba6e75bd",
   "metadata": {},
   "outputs": [],
   "source": [
    "r_coeff_data = pd.read_csv(data_path)\n",
    "r_coeff_data = r_coeff_data[r_coeff_data['ds1'].isin(ds_list) & r_coeff_data['ds2'].isin(ds_list)].reset_index(\n",
    "    drop=True).copy()"
   ]
  },
  {
   "cell_type": "code",
   "execution_count": null,
   "id": "d6d82799-19ad-4e47-beba-0877298f2292",
   "metadata": {},
   "outputs": [],
   "source": [
    "r_coeff_data.loc[r_coeff_data['ds2'].str.startswith('imagenet-subset'), 'ds2'] = 'imagenet-subset'"
   ]
  },
  {
   "cell_type": "code",
   "execution_count": null,
   "id": "c727f701-d75f-4081-a8d9-acafe1a127c0",
   "metadata": {},
   "outputs": [],
   "source": [
    "from scipy import stats\n",
    "\n",
    "combs = [('CKA linear', 'CKA RBF 0.4'), ('CKA linear', 'CKA RBF 0.2'), ('CKA RBF 0.2', 'CKA RBF 0.4'), ('CKA linear', 'RSA spearman')]\n",
    "fig, axs = plt.subplots(nrows=1, ncols=len(combs), figsize=(6.5*len(combs), 5))  # Increased width for better visibility\n",
    "\n",
    "for i, (x, y) in enumerate(combs):\n",
    "    dat1 = r_coeff_data[r_coeff_data['Similarity metric'] == x]\n",
    "    dat2 = r_coeff_data[r_coeff_data['Similarity metric'] == y]\n",
    "    dat1 = dat1.set_index(['ds1', 'ds2', 'anchor_cat', 'other_cat'])\n",
    "    dat2 = dat2.set_index(['ds1', 'ds2', 'anchor_cat', 'other_cat'])\n",
    "\n",
    "    dat1.columns = [col + ' sm1' for col in dat1.columns]\n",
    "    dat2.columns = [col + ' sm2' for col in dat2.columns]\n",
    "    dat_concat = pd.concat([dat1, dat2], axis=1)\n",
    "\n",
    "    ax = axs[i]\n",
    "    sns.scatterplot(data=dat_concat, x=\"r coeff sm1\", y=\"r coeff sm2\", alpha=0.5, s=10, ax=ax)\n",
    "\n",
    "    ax.set_xlabel(f'r coeff. ({x})', fontsize=curr_fontsizes['label'])\n",
    "    ax.set_ylabel(f'r coeff. ({y})', fontsize=curr_fontsizes['label'])\n",
    "    ax.tick_params(labelsize=curr_fontsizes['ticks'])\n",
    "\n",
    "    r, p = stats.pearsonr(dat_concat['r coeff sm1'], dat_concat['r coeff sm2'])\n",
    "    ax.text(0.05, 0.95, f'Overall r = {r:.2f}\\np-value < 0.001', transform=ax.transAxes,\n",
    "            verticalalignment='top', fontsize=curr_fontsizes['legend'])\n",
    "\n",
    "plt.subplots_adjust(wspace=0.25 if version == 'arxiv' else 0.3)\n",
    "save_or_show(fig, storing_path / f'consistency_local_global_scatter_plot_{corr_type}{suffix}.pdf', SAVE)"
   ]
  },
  {
   "cell_type": "code",
   "execution_count": null,
   "id": "57ca588b-b5e6-4295-8a4e-b6b053dd59ff",
   "metadata": {},
   "outputs": [],
   "source": []
  }
 ],
 "metadata": {
  "kernelspec": {
   "display_name": "Python 3 (ipykernel)",
   "language": "python",
   "name": "python3"
  },
  "language_info": {
   "codemirror_mode": {
    "name": "ipython",
    "version": 3
   },
   "file_extension": ".py",
   "mimetype": "text/x-python",
   "name": "python",
   "nbconvert_exporter": "python",
   "pygments_lexer": "ipython3",
   "version": "3.9.20"
  }
 },
 "nbformat": 4,
 "nbformat_minor": 5
}
