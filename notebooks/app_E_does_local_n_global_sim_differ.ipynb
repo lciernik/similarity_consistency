{
 "cells": [
  {
   "cell_type": "markdown",
   "id": "1d863c0eb85e3863",
   "metadata": {},
   "source": [
    "## Notebook appendix E: *Does local or global similarity differ?*\n",
    "This notebook creates the scatter plot of appendix E. The boxplots are generated in the `4_5_model_cats_influencing_similarity_consistency.ipynb`.    "
   ]
  },
  {
   "cell_type": "code",
   "execution_count": null,
   "id": "29d1d0c8-c2ef-440c-85c3-8c18d12a2529",
   "metadata": {},
   "outputs": [],
   "source": [
    "import matplotlib.pyplot as plt\n",
    "import pandas as pd\n",
    "import seaborn as sns\n",
    "\n",
    "from constants import (\n",
    "    BASE_PATH_RESULTS,\n",
    "    ds_list_sim_file,\n",
    "    fontsizes,\n",
    "    fontsizes_cols\n",
    ")\n",
    "from helper import (\n",
    "    load_all_datasetnames_n_info,\n",
    "    pp_storing_path,\n",
    "    save_or_show\n",
    ")\n",
    "\n",
    "sns.set_style('ticks')"
   ]
  },
  {
   "cell_type": "markdown",
   "id": "8ed5976b0e4d4f5b",
   "metadata": {},
   "source": [
    "#### Global variables"
   ]
  },
  {
   "cell_type": "code",
   "execution_count": null,
   "id": "5f1117c1-b686-4b0a-a8a4-74a2a389b16e",
   "metadata": {},
   "outputs": [],
   "source": [
    "# Datasets\n",
    "ds_list, ds_info = load_all_datasetnames_n_info(ds_list_sim_file, verbose=False)\n",
    "\n",
    "# Experiment configuration\n",
    "corr_type = 'pearsonr'  # 'pearsonr', 'spearmanr'\n",
    "suffix = ''  # '', '_wo_mae'\n",
    "exp_conf = f'{corr_type}{suffix}'\n",
    "\n",
    "# Path to correlation data\n",
    "data_path = BASE_PATH_RESULTS / f'aggregated/r_coeff_dist/with_cats_as_anchors/agg_{corr_type}_all_ds_with_rsa{suffix}.csv'\n",
    "assert data_path.exists(), f'Path does not exist: {data_path}. Aggregated correlation coefficients across all dataset pairs not found, please run aggregate_consistencies_for_model_set_pairs.ipynb first.'\n",
    "\n",
    "## Version and plotting info\n",
    "version = 'arxiv'\n",
    "curr_fontsizes = fontsizes if version == 'arxiv' else fontsizes_cols\n",
    "\n",
    "SAVE = True\n",
    "storing_path = pp_storing_path(BASE_PATH_RESULTS / 'plots' / 'final' / version / 'app_E_local_vs_global', SAVE)"
   ]
  },
  {
   "cell_type": "markdown",
   "id": "3db38f9b75317de3",
   "metadata": {},
   "source": [
    "#### Load data"
   ]
  },
  {
   "cell_type": "code",
   "execution_count": null,
   "id": "9db2fc6abf38f147",
   "metadata": {},
   "outputs": [],
   "source": [
    "r_coeff_data = pd.read_csv(data_path)\n",
    "r_coeff_data = r_coeff_data[r_coeff_data['ds1'].isin(ds_list) & r_coeff_data['ds2'].isin(ds_list)].reset_index(\n",
    "    drop=True).copy()"
   ]
  },
  {
   "cell_type": "markdown",
   "id": "1af47fda0ee8b38d",
   "metadata": {},
   "source": [
    "#### Create scatterplots with all correlations between all model set pairs and dataset pairs"
   ]
  },
  {
   "cell_type": "code",
   "execution_count": null,
   "id": "59d0b6b8-1b09-4555-90fd-f7c2390c3676",
   "metadata": {},
   "outputs": [],
   "source": [
    "from scipy import stats\n",
    "\n",
    "combs = [('CKA linear', 'CKA RBF 0.4'), ('CKA linear', 'RSA spearman')]\n",
    "fig, axs = plt.subplots(nrows=1, ncols=2, figsize=(12, 5))  # Increased width for better visibility\n",
    "\n",
    "for i, (x, y) in enumerate(combs):\n",
    "    dat1 = r_coeff_data[r_coeff_data['Similarity metric'] == x]\n",
    "    dat2 = r_coeff_data[r_coeff_data['Similarity metric'] == y]\n",
    "    dat1 = dat1.set_index(['ds1', 'ds2', 'anchor_cat', 'other_cat'])\n",
    "    dat2 = dat2.set_index(['ds1', 'ds2', 'anchor_cat', 'other_cat'])\n",
    "\n",
    "    dat1.columns = [col + ' sm1' for col in dat1.columns]\n",
    "    dat2.columns = [col + ' sm2' for col in dat2.columns]\n",
    "    dat_concat = pd.concat([dat1, dat2], axis=1)\n",
    "\n",
    "    ax = axs[i]\n",
    "    sns.scatterplot(data=dat_concat, x=\"r coeff sm1\", y=\"r coeff sm2\", alpha=0.5, s=10, ax=ax)\n",
    "\n",
    "    ax.set_xlabel(f'r coeff. ({x})', fontsize=curr_fontsizes['label'])\n",
    "    ax.set_ylabel(f'r coeff. ({y})', fontsize=curr_fontsizes['label'])\n",
    "    ax.tick_params(labelsize=curr_fontsizes['ticks'])\n",
    "\n",
    "    r, p = stats.pearsonr(dat_concat['r coeff sm1'], dat_concat['r coeff sm2'])\n",
    "    ax.text(0.05, 0.95, f'Overall r = {r:.2f}\\np-value < 0.001', transform=ax.transAxes,\n",
    "            verticalalignment='top', fontsize=curr_fontsizes['legend'])\n",
    "\n",
    "plt.subplots_adjust(wspace=0.2 if version == 'arxiv' else 0.3)\n",
    "save_or_show(fig, storing_path / f'consistency_local_global_scatter_plot{suffix}.pdf', SAVE)"
   ]
  }
 ],
 "metadata": {
  "kernelspec": {
   "display_name": "Python 3 (ipykernel)",
   "language": "python",
   "name": "python3"
  },
  "language_info": {
   "codemirror_mode": {
    "name": "ipython",
    "version": 3
   },
   "file_extension": ".py",
   "mimetype": "text/x-python",
   "name": "python",
   "nbconvert_exporter": "python",
   "pygments_lexer": "ipython3",
   "version": "3.9.20"
  }
 },
 "nbformat": 4,
 "nbformat_minor": 5
}
