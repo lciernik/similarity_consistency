{
 "cells": [
  {
   "cell_type": "markdown",
   "id": "e5e92f6bb9b9e660",
   "metadata": {},
   "source": [
    "## Notebook for aggregating r-coefficients for model set and anchor model pairs across datasets and similarity metrics\n",
    "This notebook aggregates the r-coefficients for the similarity values of the anchor models combined with models from different models sets across different categories. The r-coefficients are computed for each dataset pair and similarity metric pair. The aggregated data is stored in a csv file."
   ]
  },
  {
   "cell_type": "code",
   "execution_count": null,
   "id": "51850cf9-6dc1-46d3-a709-590b5dac4723",
   "metadata": {},
   "outputs": [],
   "source": [
    "from itertools import combinations, product\n",
    "\n",
    "import pandas as pd\n",
    "from scipy.stats import kendalltau, pearsonr, spearmanr\n",
    "from tqdm import tqdm\n",
    "\n",
    "from constants import (\n",
    "    BASE_PATH_PROJECT,\n",
    "    BASE_PATH_RESULTS,\n",
    "    anchors,\n",
    "    ds_list_sim_file,\n",
    "    exclude_models,\n",
    "    exclude_models_w_mae,\n",
    "    model_cat_mapping,\n",
    "    model_categories,\n",
    "    model_config_file,\n",
    "    sim_metric_name_mapping\n",
    ")\n",
    "from helper import (\n",
    "    load_all_datasetnames_n_info,\n",
    "    load_model_configs_and_allowed_models,\n",
    "    load_similarity_matrices,\n",
    "    pp_storing_path\n",
    ")"
   ]
  },
  {
   "cell_type": "code",
   "execution_count": null,
   "id": "b83c9d72-9550-4da2-9952-ae5667a20c70",
   "metadata": {},
   "outputs": [],
   "source": [
    "BASE_PATH_RESULTS, exclude_models_w_mae, anchors"
   ]
  },
  {
   "cell_type": "markdown",
   "id": "ff7f144542873296",
   "metadata": {},
   "source": [
    "#### Global vaiables"
   ]
  },
  {
   "cell_type": "code",
   "execution_count": null,
   "id": "662a5072-6caf-4891-b2de-bdc8f73d043f",
   "metadata": {},
   "outputs": [],
   "source": [
    "## Data loading\n",
    "ds_list, _ = load_all_datasetnames_n_info(ds_list_sim_file, verbose=True)\n",
    "\n",
    "## Paths\n",
    "base_path_similarity_matrices = BASE_PATH_PROJECT / 'model_similarities'\n",
    "base_path_similarity_matrices_rbf02 = BASE_PATH_PROJECT / 'model_similarities_rbf02'\n",
    "sim_metrics = [\n",
    "    'cka_kernel_rbf_unbiased_sigma_0.2',\n",
    "    # 'cka_kernel_rbf_unbiased_sigma_0.4',\n",
    "    'cka_kernel_linear_unbiased',\n",
    "    # 'rsa_method_correlation_corr_method_spearman',\n",
    "]\n",
    "\n",
    "# Correlation method\n",
    "corr_methods = ['spearmanr', 'pearsonr']\n",
    "\n",
    "# Combinations of correlation methods and models to exclude\n",
    "combs = list(product(corr_methods, [exclude_models, exclude_models_w_mae]))\n",
    "print(f\"{len(combs)=}\")\n",
    "corr_method, curr_model_excl = combs[2]\n",
    "print(f\"{corr_method=}, {curr_model_excl=}\")\n",
    "\n",
    "# Suffix for storing\n",
    "# suffix = '_wo_mae' if len(curr_model_excl) > 0 else ''\n",
    "suffix = '_wo_mae_rbf02_n_linear' if len(curr_model_excl) > 0 else '_rbf02_n_linear'\n",
    "\n",
    "SAVE = True\n",
    "storing_path = pp_storing_path(BASE_PATH_RESULTS / f'aggregated/r_coeff_dist/with_anchor_models', SAVE)\n",
    "storing_path"
   ]
  },
  {
   "cell_type": "markdown",
   "id": "3f561cfce1b69676",
   "metadata": {},
   "source": [
    "#### Load model configurations and similarity matrices"
   ]
  },
  {
   "cell_type": "code",
   "execution_count": null,
   "id": "345a0386-420d-4014-8371-ce8e3a615298",
   "metadata": {},
   "outputs": [],
   "source": [
    "model_configs, allowed_models = load_model_configs_and_allowed_models(\n",
    "    path=model_config_file,\n",
    "    exclude_models=curr_model_excl,\n",
    "    exclude_alignment=True,\n",
    ")"
   ]
  },
  {
   "cell_type": "code",
   "execution_count": null,
   "id": "ea8aa18f-6b40-443b-ae15-88ede0415cc7",
   "metadata": {},
   "outputs": [],
   "source": [
    "if 'mae' in suffix and 'mae-vit-large-p16' in anchors:\n",
    "    anchors.remove('mae-vit-large-p16')"
   ]
  },
  {
   "cell_type": "code",
   "execution_count": null,
   "id": "9a6b762f-a344-48af-896c-b8aa2ce0c70f",
   "metadata": {},
   "outputs": [],
   "source": [
    "model_configs['objective'].value_counts()"
   ]
  },
  {
   "cell_type": "code",
   "execution_count": null,
   "id": "59f147d1c3dc137a",
   "metadata": {},
   "outputs": [],
   "source": [
    "sim_mats_lin = load_similarity_matrices(\n",
    "    path=base_path_similarity_matrices,\n",
    "    ds_list=ds_list,\n",
    "    sim_metrics=['cka_kernel_linear_unbiased'],\n",
    "    allowed_models=allowed_models,\n",
    ")\n",
    "\n",
    "sim_mats_02 = load_similarity_matrices(\n",
    "    path=base_path_similarity_matrices_rbf02,\n",
    "    ds_list=ds_list[:-1] + ['imagenet-subset-30k'],\n",
    "    sim_metrics=['cka_kernel_rbf_unbiased_sigma_0.2'],\n",
    "    allowed_models=allowed_models,\n",
    ")\n",
    "\n",
    "sim_mats_lin.keys(), sim_mats_02.keys()"
   ]
  },
  {
   "cell_type": "code",
   "execution_count": null,
   "id": "eacb298b-e215-4344-afe9-774ef318077a",
   "metadata": {},
   "outputs": [],
   "source": [
    "## HANDLE DIFFERENT NAMING OF IMAGENET SUBSETS\n",
    "print('cka_kernel_linear_unbiased')\n",
    "print(sim_mats_lin['cka_kernel_linear_unbiased'].keys())\n",
    "\n",
    "if 'imagenet-subset-10k' in sim_mats_lin['cka_kernel_linear_unbiased'].keys():\n",
    "    sim_mats_lin['cka_kernel_linear_unbiased']['imagenet-subset'] = sim_mats_lin['cka_kernel_linear_unbiased']['imagenet-subset-10k']\n",
    "    del sim_mats_lin['cka_kernel_linear_unbiased']['imagenet-subset-10k']\n",
    "    \n",
    "    print(sim_mats_lin['cka_kernel_linear_unbiased'].keys())\n",
    "    print()\n",
    "    print()\n",
    "\n",
    "\n",
    "print('cka_kernel_rbf_unbiased_sigma_0.2')\n",
    "print(sim_mats_02['cka_kernel_rbf_unbiased_sigma_0.2'].keys())\n",
    "\n",
    "if 'imagenet-subset-30k' in sim_mats_02['cka_kernel_rbf_unbiased_sigma_0.2'].keys():\n",
    "    sim_mats_02['cka_kernel_rbf_unbiased_sigma_0.2']['imagenet-subset'] = sim_mats_02['cka_kernel_rbf_unbiased_sigma_0.2']['imagenet-subset-30k']\n",
    "    del sim_mats_02['cka_kernel_rbf_unbiased_sigma_0.2']['imagenet-subset-30k']\n",
    "    \n",
    "    print(sim_mats_02['cka_kernel_rbf_unbiased_sigma_0.2'].keys())\n",
    "    print()\n",
    "    print()\n"
   ]
  },
  {
   "cell_type": "code",
   "execution_count": null,
   "id": "443b250b-ea30-4d9c-ab3b-98a012ef1ce2",
   "metadata": {},
   "outputs": [],
   "source": [
    "# combine dictionaries\n",
    "sim_mats = {}\n",
    "for key, data in sim_mats_lin.items():\n",
    "    sim_mats[key] = data\n",
    "for key, data in sim_mats_02.items():\n",
    "    sim_mats[key] = data"
   ]
  },
  {
   "cell_type": "markdown",
   "id": "a6d7de4238776f1b",
   "metadata": {},
   "source": [
    "### Aggregate r-coefficients for model set and anchor model pairs across datasets and similarity metrics"
   ]
  },
  {
   "cell_type": "code",
   "execution_count": null,
   "id": "f1688941b55bd2f1",
   "metadata": {},
   "outputs": [],
   "source": [
    "## Define column names\n",
    "anchor_col = 'Anchor Model'\n",
    "other_col = 'Other Model'\n",
    "other_ds_col = 'Dataset'\n",
    "sim_metric_col = 'Similarity metric'\n",
    "sim_ds_col = 'Similarity value DS'\n",
    "info_orig_cols = model_categories\n",
    "info_cols = list(model_cat_mapping.values())\n",
    "id_cols = [anchor_col, other_col, sim_metric_col] + info_cols\n",
    "comp_cat_col = 'Comparison category'\n",
    "comp_cat_orig_col = 'Comparison category (orig. name)'\n",
    "comp_val_col = 'Comparison values'\n",
    "r_col = 'r coeff'\n",
    "\n",
    "\n",
    "## Helper functions\n",
    "def get_other_model_info(mid):\n",
    "    model_config = model_configs.loc[mid]\n",
    "    return model_config['objective'], model_config['architecture_class'], model_config['dataset_class'], model_config[\n",
    "        'size_class']\n",
    "\n",
    "\n",
    "def get_melted_sim_values_metric_anchor(anch, met, met_ds_mats):\n",
    "    sim_vals_ds = []\n",
    "    # for each dataset, get the similarity values of the anchor model to all other models\n",
    "    for ds, curr_sim_mat in met_ds_mats.items():\n",
    "        cols = curr_sim_mat.columns.tolist()\n",
    "        cols.remove(anch)\n",
    "        cols = sorted(list(set(cols).intersection(allowed_models)))\n",
    "        row_sim_mat = curr_sim_mat.loc[anch, cols]\n",
    "        row_sim_mat.name = ds\n",
    "        sim_vals_ds.append(row_sim_mat)\n",
    "\n",
    "    # concatenate the similarity values of the anchor model to all other models for all datasets\n",
    "    anchor_sim_vals = pd.concat(sim_vals_ds, axis=1)\n",
    "    anchor_sim_vals = anchor_sim_vals.reset_index(names=[other_col])\n",
    "    # get the model information for all other models and add it to the dataframe\n",
    "    anchor_sim_vals = pd.concat([anchor_sim_vals,\n",
    "                                 pd.DataFrame(anchor_sim_vals[other_col].apply(get_other_model_info).tolist(),\n",
    "                                              columns=info_cols)], axis=1)\n",
    "    anchor_sim_vals[sim_metric_col] = sim_metric_name_mapping[met]\n",
    "    anchor_sim_vals[anchor_col] = anch\n",
    "    # melt the dataframe to have one row per dataset and anchor & other model pair \n",
    "    anchor_sim_vals = pd.melt(anchor_sim_vals,\n",
    "                              id_vars=id_cols,\n",
    "                              var_name=other_ds_col,\n",
    "                              value_name=sim_ds_col,\n",
    "                              )\n",
    "    return anchor_sim_vals"
   ]
  },
  {
   "cell_type": "markdown",
   "id": "a515785a138efa06",
   "metadata": {},
   "source": [
    "#### Summarize similarity values for all anchor models\n",
    "This cell only keep similarity values where the anchor model is one of the models in each model pair. Additionally, it flattens the dataframe to have one row per dataset and anchor & other model pair."
   ]
  },
  {
   "cell_type": "code",
   "execution_count": null,
   "id": "08683e86-1fdb-4aa4-b2d4-07664b8e9616",
   "metadata": {},
   "outputs": [],
   "source": [
    "# get the similarity values for all anchor models and similarity metrics\n",
    "dfs = []\n",
    "for anchor in anchors:\n",
    "    for sim_metric, ds_sim_mat in sim_mats.items():\n",
    "        anchor_sim_vals = get_melted_sim_values_metric_anchor(anchor, sim_metric, ds_sim_mat)\n",
    "        dfs.append(anchor_sim_vals)\n",
    "\n",
    "all_sims = pd.concat(dfs, axis=0).reset_index(drop=True)"
   ]
  },
  {
   "cell_type": "code",
   "execution_count": null,
   "id": "e3ce1b0a-2fe2-4ec5-bdcc-44d471dd966d",
   "metadata": {},
   "outputs": [],
   "source": [
    "all_sims.head()"
   ]
  },
  {
   "cell_type": "code",
   "execution_count": null,
   "id": "738d5002-ef9e-43e7-8ceb-f7bf925ca561",
   "metadata": {},
   "outputs": [],
   "source": [
    "all_sims['Similarity metric'].unique(), all_sims['Dataset'].nunique()"
   ]
  },
  {
   "cell_type": "markdown",
   "id": "7fa6339e19af05ea",
   "metadata": {},
   "source": [
    "#### Compute the r-coefficients for each dataset pair and similarity metric pair. "
   ]
  },
  {
   "cell_type": "code",
   "execution_count": null,
   "id": "63ad8cb4-85d3-4754-880e-68a4425ed28d",
   "metadata": {},
   "outputs": [],
   "source": [
    "# get all unique datasets and create all possible pairs\n",
    "all_datasets = all_sims[other_ds_col].unique()\n",
    "ds_pairs = list(combinations(all_datasets, 2))\n",
    "print('Nr. dataset pairs: ', len(ds_pairs))"
   ]
  },
  {
   "cell_type": "code",
   "execution_count": null,
   "id": "eb9c2789-81e5-49d8-befc-e26be3fb36bd",
   "metadata": {},
   "outputs": [],
   "source": [
    "def correlation(x, y):\n",
    "    corr = None\n",
    "    if corr_method == 'spearmanr':\n",
    "        corr, _ = spearmanr(x, y)\n",
    "    elif corr_method == 'kendalltau':\n",
    "        corr, _ = kendalltau(x, y)\n",
    "    elif corr_method == 'pearsonr':\n",
    "        corr, _ = pearsonr(x, y)\n",
    "    return corr\n",
    "\n",
    "\n",
    "def compute_corr(data):\n",
    "    res = []\n",
    "    for ds1, ds2 in ds_pairs:\n",
    "        x = data[data[other_ds_col] == ds1][sim_ds_col]\n",
    "        y = data[data[other_ds_col] == ds2][sim_ds_col]\n",
    "        corr = correlation(x, y)\n",
    "        res.append((ds1, ds2, corr))\n",
    "    return res\n",
    "\n",
    "\n",
    "def post_process_group_op(df):\n",
    "    df = df.explode(r_col).reset_index(drop=True)\n",
    "    df_split = df[r_col].apply(pd.Series)\n",
    "    df_split.columns = ['DS 1', 'DS 2', r_col]\n",
    "    df.drop(columns=[r_col], inplace=True)\n",
    "    df = pd.concat([df, df_split], axis=1)\n",
    "    return df\n",
    "\n",
    "\n",
    "r_dfs = []\n",
    "for strata in tqdm(info_cols):\n",
    "    grouping_cols = [sim_metric_col, anchor_col, strata]\n",
    "    print(grouping_cols)\n",
    "\n",
    "    strata_rs = all_sims.groupby(grouping_cols, dropna=False).apply(compute_corr, include_groups=False).reset_index()\n",
    "    strata_rs.columns = grouping_cols + [r_col]\n",
    "    strata_rs = post_process_group_op(strata_rs)\n",
    "\n",
    "    all_rs = all_sims.groupby(grouping_cols[:-1], dropna=False).apply(compute_corr, include_groups=False).reset_index()\n",
    "    all_rs.columns = grouping_cols[:-1] + [r_col]\n",
    "    all_rs = post_process_group_op(all_rs)\n",
    "    all_rs[strata] = 'All'\n",
    "\n",
    "    rs = pd.concat([all_rs, strata_rs], axis=0).reset_index(drop=True)\n",
    "    rs = rs.sort_values([sim_metric_col, anchor_col]).reset_index(drop=True)\n",
    "    r_dfs.append(rs)"
   ]
  },
  {
   "cell_type": "code",
   "execution_count": null,
   "id": "0261425c-abb1-4a18-8895-2b06c371c75c",
   "metadata": {},
   "outputs": [],
   "source": [
    "for i in range(len(r_dfs)):\n",
    "    r_dfs[i][comp_cat_col] = info_cols[i]\n",
    "    r_dfs[i][comp_cat_orig_col] = info_orig_cols[i]\n",
    "    r_dfs[i].rename(columns={info_cols[i]: comp_val_col}, inplace=True)"
   ]
  },
  {
   "cell_type": "code",
   "execution_count": null,
   "id": "899e1ba1-aa7d-4121-a11f-c179c31d3524",
   "metadata": {},
   "outputs": [],
   "source": [
    "r_df = pd.concat(r_dfs, axis=0)\n",
    "r_df.head()"
   ]
  },
  {
   "cell_type": "code",
   "execution_count": null,
   "id": "0e5e3f97-48f7-41fb-96dc-8d97ebb33b75",
   "metadata": {},
   "outputs": [],
   "source": [
    "if SAVE:\n",
    "    r_df.to_csv(storing_path / f'agg_{corr_method}_all_ds{suffix}.csv', index=False)\n",
    "    print(f\"Stored aggregated data at: {storing_path / f'agg_{corr_method}_all_ds{suffix}.csv'}\")"
   ]
  },
  {
   "cell_type": "code",
   "execution_count": null,
   "id": "d7234e09-b97e-45f8-84cc-74cca0c655ae",
   "metadata": {},
   "outputs": [],
   "source": []
  }
 ],
 "metadata": {
  "kernelspec": {
   "display_name": "Python 3 (ipykernel)",
   "language": "python",
   "name": "python3"
  },
  "language_info": {
   "codemirror_mode": {
    "name": "ipython",
    "version": 3
   },
   "file_extension": ".py",
   "mimetype": "text/x-python",
   "name": "python",
   "nbconvert_exporter": "python",
   "pygments_lexer": "ipython3",
   "version": "3.9.20"
  }
 },
 "nbformat": 4,
 "nbformat_minor": 5
}
