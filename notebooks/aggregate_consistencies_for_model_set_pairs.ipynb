{
 "cells": [
  {
   "cell_type": "markdown",
   "id": "601f2535fb55c810",
   "metadata": {},
   "source": [
    "## Notebook for aggregating r-coefficients for model set pairs across datasets and similarity metrics\n",
    "This notebook aggregates the correlation coefficients for model set pairs across datasets and similarity metrics. The correlation coefficients are calculated for each dataset pair and each model subcategory pair. The coefficients are calculated using Pearson's r and Spearman's r. The aggregated data is stored in a csv file."
   ]
  },
  {
   "cell_type": "code",
   "execution_count": null,
   "id": "29d1d0c8-c2ef-440c-85c3-8c18d12a2529",
   "metadata": {},
   "outputs": [],
   "source": [
    "from itertools import combinations, product\n",
    "\n",
    "import numpy as np\n",
    "import pandas as pd\n",
    "from scipy.stats import pearsonr, spearmanr\n",
    "\n",
    "from constants import (\n",
    "    exclude_models,\n",
    "    exclude_models_w_mae,\n",
    "    cat_name_mapping,\n",
    "    model_config_file,\n",
    "    model_categories,\n",
    "    sim_metric_name_mapping,\n",
    "    model_cat_mapping,\n",
    "    BASE_PATH_PROJECT,\n",
    "    BASE_PATH_RESULTS,\n",
    "    ds_list_sim_file\n",
    ")\n",
    "from helper import (\n",
    "    load_model_configs_and_allowed_models,\n",
    "    load_similarity_matrices,\n",
    "    pp_storing_path,\n",
    "    load_all_datasetnames_n_info\n",
    ")"
   ]
  },
  {
   "cell_type": "markdown",
   "id": "b3f9a281e35c9f89",
   "metadata": {},
   "source": [
    "#### Global variables"
   ]
  },
  {
   "cell_type": "code",
   "execution_count": null,
   "id": "5f1117c1-b686-4b0a-a8a4-74a2a389b16e",
   "metadata": {},
   "outputs": [],
   "source": [
    "# base_path_similarity_matrices = BASE_PATH_PROJECT / 'model_similarities'\n",
    "# sim_metrics = [\n",
    "#     'cka_kernel_rbf_unbiased_sigma_0.4',\n",
    "#     'cka_kernel_linear_unbiased',\n",
    "#     'rsa_method_correlation_corr_method_spearman'\n",
    "# ]\n",
    "\n",
    "# base_path_similarity_matrices = BASE_PATH_PROJECT / 'model_similarities_rbf02'\n",
    "# sim_metrics = [\n",
    "#     'cka_kernel_rbf_unbiased_sigma_0.2'\n",
    "# ]\n",
    "\n",
    "base_path_similarity_matrices = BASE_PATH_PROJECT / 'model_similarities_intermediate'\n",
    "sim_metrics = [\n",
    "    'cka_kernel_rbf_unbiased_sigma_0.4',\n",
    "    'cka_kernel_linear_unbiased',\n",
    "    'rsa_method_correlation_corr_method_spearman'\n",
    "]\n",
    "\n",
    "\n",
    "sim_metrics_mapped = [sim_metric_name_mapping[k] for k in sim_metrics]\n",
    "\n",
    "ds_list, _ = load_all_datasetnames_n_info(ds_list_sim_file, verbose=True)\n",
    "\n",
    "suffix = '_intermediate_wo_siglip_n_dino_xcit'  # '', '_wo_mae'\n",
    "# suffix = '_intermediate'  # '', '_wo_mae'\n",
    "\n",
    "SAVE = True\n",
    "storing_path = pp_storing_path(BASE_PATH_RESULTS / f'aggregated/r_coeff_dist/with_cats_as_anchors', SAVE)"
   ]
  },
  {
   "cell_type": "markdown",
   "id": "5b8065355a26c752",
   "metadata": {},
   "source": [
    "#### Load model configurations and similarity matrices"
   ]
  },
  {
   "cell_type": "code",
   "execution_count": null,
   "id": "2417f211-e054-48e0-bac8-a08751a339fd",
   "metadata": {},
   "outputs": [],
   "source": [
    "if 'mae' in suffix:\n",
    "    curr_excl_models = exclude_models_w_mae\n",
    "elif 'siglip' in suffix.lower():\n",
    "    curr_excl_models = ['OpenCLIP_ViT-B-16-SigLIP_webli', 'dino-xcit-medium-24-p16', 'dino-xcit-small-12-p16']\n",
    "else:\n",
    "    curr_excl_models =  exclude_models\n",
    "\n",
    "model_configs, allowed_models = load_model_configs_and_allowed_models(\n",
    "    # path=model_config_file,\n",
    "    path=\"../scripts/configs/models_config_wo_alignment_vits_intermediate_allfixed_ocplusother.json\",\n",
    "    exclude_models=curr_excl_models,\n",
    "    exclude_alignment=True,\n",
    ")"
   ]
  },
  {
   "cell_type": "code",
   "execution_count": null,
   "id": "f3a78305-28c6-4f7c-aee9-cdd4f09c795f",
   "metadata": {},
   "outputs": [],
   "source": [
    "sim_mats = load_similarity_matrices(\n",
    "    path=base_path_similarity_matrices,\n",
    "    ds_list=ds_list,\n",
    "    sim_metrics=sim_metrics,\n",
    "    allowed_models=allowed_models,\n",
    ")\n",
    "sim_mats = {sim_metric_name_mapping[k]: v for k, v in sim_mats.items()}\n",
    "sim_mats.keys()"
   ]
  },
  {
   "cell_type": "markdown",
   "id": "2cc8c01d7d56ddb3",
   "metadata": {},
   "source": [
    "#### Helper functions"
   ]
  },
  {
   "cell_type": "code",
   "execution_count": null,
   "id": "1576ae29-6514-41d5-9234-97282cca18cc",
   "metadata": {},
   "outputs": [],
   "source": [
    "def get_sim_data(category, sim_metric):\n",
    "    cat_groups = model_configs.reset_index(names=['mid']).groupby(category)['mid'].unique()\n",
    "    cat_groups.index = [cat_name_mapping[x] for x in cat_groups.index]\n",
    "    sim_metric_mats = sim_mats[sim_metric]\n",
    "    return cat_groups, sim_metric_mats\n",
    "\n",
    "\n",
    "def process_sim_mat(ds, sim_mat, cat):\n",
    "    indx_i, indx_j = np.triu_indices(n=len(sim_mat), k=1)\n",
    "    flat_sim_mat = pd.DataFrame(\n",
    "        {'Similarity value': sim_mat.values[indx_i, indx_j],\n",
    "         'Model 1': sim_mat.index.values[indx_i],\n",
    "         'Model 2': sim_mat.columns.values[indx_j]\n",
    "         })\n",
    "    flat_sim_mat['M1 obj.'] = flat_sim_mat['Model 1'].apply(lambda x: cat_name_mapping[model_configs.loc[x, cat]])\n",
    "    flat_sim_mat['M2 obj.'] = flat_sim_mat['Model 2'].apply(lambda x: cat_name_mapping[model_configs.loc[x, cat]])\n",
    "    flat_sim_mat['DS'] = ds\n",
    "    return flat_sim_mat\n",
    "\n",
    "\n",
    "def r_coeff(df, ds1, ds2, corr_type):\n",
    "    x = df[df['DS'] == ds1]['Similarity value']\n",
    "    y = df[df['DS'] == ds2]['Similarity value']\n",
    "    if 'pearsonr' == corr_type:\n",
    "        corr, _ = pearsonr(x, y)\n",
    "    elif 'spearmanr' == corr_type:\n",
    "        corr, _ = spearmanr(x, y)\n",
    "    else:\n",
    "        raise ValueError(f'Unknown {corr_type=}! Need to select pearsonr or spearmanr r_corr in corr_type.')\n",
    "    return corr\n",
    "\n",
    "\n",
    "def get_r_coeff_df(sim_metric_mats, cat_groups, corr_type):\n",
    "    # flatten each similarity matrix \n",
    "    pp_mats = []\n",
    "    for ds, sim_mat in sim_metric_mats.items():\n",
    "        pp_mats.append(process_sim_mat(ds, sim_mat, desired_cat))\n",
    "    pp_mats = pd.concat(pp_mats)\n",
    "    # get each dataset pair \n",
    "    combs = combinations(list(pp_mats['DS'].unique()), 2)\n",
    "    r_coeffs = []\n",
    "    for ds1, ds2 in combs:\n",
    "        subset_ds = pp_mats[pp_mats['DS'].isin([ds1, ds2])]\n",
    "        for cat in cat_groups.index.tolist():\n",
    "            subset_data = subset_ds[(subset_ds['M1 obj.'] == cat) | (subset_ds['M2 obj.'] == cat)].copy()\n",
    "            subset_data['other cat'] = subset_data[['M1 obj.', 'M2 obj.']].apply(\n",
    "                lambda x: x['M2 obj.'] if x['M1 obj.'] == cat else x['M1 obj.'], axis=1)\n",
    "            for other_cat, other_cat_data in subset_data.groupby('other cat'):\n",
    "\n",
    "                if len(other_cat_data) <= 2:\n",
    "                    print(f'Cannot compute correlation for {(ds1, ds2)} and {(cat, other_cat)}, too few model pairs')\n",
    "                    continue\n",
    "                r_coeffs.append(\n",
    "                    {\n",
    "                        'ds1': ds1,\n",
    "                        'ds2': ds2,\n",
    "                        'anchor_cat': cat,\n",
    "                        'other_cat': other_cat,\n",
    "                        'r coeff': r_coeff(other_cat_data, ds1, ds2, corr_type),\n",
    "                        'cat_pair': tuple(sorted([cat, other_cat]))\n",
    "                    }\n",
    "                )\n",
    "    df_r_coeffs = pd.DataFrame(r_coeffs)\n",
    "    return df_r_coeffs\n"
   ]
  },
  {
   "cell_type": "markdown",
   "id": "f0289fbdebe8e001",
   "metadata": {},
   "source": [
    "### Aggregating r-coefficients for model set pairs across datasets and similarity metrics"
   ]
  },
  {
   "cell_type": "code",
   "execution_count": null,
   "id": "70bdbf73-bd22-46ee-b95a-e961e3743828",
   "metadata": {},
   "outputs": [],
   "source": [
    "for corr_type in ['pearsonr', 'spearmanr']:\n",
    "\n",
    "    corr_data = {}\n",
    "\n",
    "    for desired_cat, sim_metric in product(sorted(model_categories), list(sim_mats.keys())):\n",
    "        print(desired_cat, sim_metric)\n",
    "        cat_groups, sim_metric_mats = get_sim_data(desired_cat, sim_metric)\n",
    "        df_r_coeffs = get_r_coeff_df(sim_metric_mats, cat_groups, corr_type)\n",
    "        df_r_coeffs['Comparison category'] = model_cat_mapping[desired_cat]\n",
    "        df_r_coeffs['Similarity metric'] = sim_metric\n",
    "        corr_data[f\"{desired_cat}_{sim_metric}\"] = df_r_coeffs\n",
    "\n",
    "    r_df = pd.concat(list(corr_data.values()), axis=0)\n",
    "\n",
    "    r_df = r_df[~r_df[['ds1', 'ds2', 'r coeff', 'cat_pair', 'Comparison category',\n",
    "                       'Similarity metric']].duplicated()].copy().reset_index(drop=True)\n",
    "    print(f\"Nr. of entries {len(r_df)}\")\n",
    "    if SAVE:\n",
    "        fn = storing_path / f'agg_{corr_type}_all_ds{suffix}.csv'\n",
    "        r_df.to_csv(fn, index=False)\n",
    "        print(f\"Stored aggregated data at: {fn}\")"
   ]
  },
  {
   "cell_type": "code",
   "execution_count": null,
   "id": "06271580-bf5e-4fb8-9c62-1d8e4eec75dc",
   "metadata": {},
   "outputs": [],
   "source": []
  }
 ],
 "metadata": {
  "kernelspec": {
   "display_name": "Python 3 (ipykernel)",
   "language": "python",
   "name": "python3"
  },
  "language_info": {
   "codemirror_mode": {
    "name": "ipython",
    "version": 3
   },
   "file_extension": ".py",
   "mimetype": "text/x-python",
   "name": "python",
   "nbconvert_exporter": "python",
   "pygments_lexer": "ipython3",
   "version": "3.9.20"
  }
 },
 "nbformat": 4,
 "nbformat_minor": 5
}
