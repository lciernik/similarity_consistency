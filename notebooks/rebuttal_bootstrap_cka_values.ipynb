{
 "cells": [
  {
   "cell_type": "code",
   "execution_count": 1,
   "id": "7d18605b-c9bf-4847-8b13-8d7e0c105d3b",
   "metadata": {},
   "outputs": [],
   "source": [
    "from pathlib import Path\n",
    "import pandas as pd\n",
    "import numpy as np\n",
    "import seaborn as sns\n",
    "import matplotlib.pyplot as plt\n",
    "from constants import BASE_PATH_PROJECT, BASE_PATH_RESULTS, sim_metric_name_mapping, anchor_name_mapping\n",
    "from helper import load_model_configs_and_allowed_models, save_or_show, pp_storing_path, load_all_datasetnames_n_info, load_similarity_matrices"
   ]
  },
  {
   "cell_type": "code",
   "execution_count": 2,
   "id": "004c2712-0277-42db-9e42-b371fe2ff8ec",
   "metadata": {},
   "outputs": [
    {
     "name": "stdout",
     "output_type": "stream",
     "text": [
      "\n"
     ]
    },
    {
     "data": {
      "text/plain": [
       "PosixPath('/home/space/diverse_priors/results_rebuttal/plots/experiment_bootstrap')"
      ]
     },
     "execution_count": 2,
     "metadata": {},
     "output_type": "execute_result"
    }
   ],
   "source": [
    "SAVE = True\n",
    "storing_path = pp_storing_path(BASE_PATH_RESULTS / 'plots/experiment_bootstrap', SAVE) \n",
    "storing_path"
   ]
  },
  {
   "cell_type": "code",
   "execution_count": 3,
   "id": "75a60df8-17d0-409f-80d3-46d192f129de",
   "metadata": {},
   "outputs": [],
   "source": [
    "max_seed = 500\n",
    "# ds_list = ['imagenet-subset-10k-seed-{seed}'.format(seed=i) for i in range(max_seed)]\n",
    "ds_list = ['imagenet-subset-30k-seed-{seed}'.format(seed=i) for i in range(max_seed)]"
   ]
  },
  {
   "cell_type": "code",
   "execution_count": 4,
   "id": "0120481b-ce4b-41bb-92fb-f43e58bafc76",
   "metadata": {},
   "outputs": [
    {
     "name": "stdout",
     "output_type": "stream",
     "text": [
      "Nr. models original=6\n"
     ]
    },
    {
     "data": {
      "text/plain": [
       "['OpenCLIP_RN50_openai',\n",
       " 'OpenCLIP_ViT-L-14_openai',\n",
       " 'dinov2-vit-large-p14',\n",
       " 'simclr-rn50',\n",
       " 'resnet50',\n",
       " 'vit_large_patch16_224']"
      ]
     },
     "execution_count": 4,
     "metadata": {},
     "output_type": "execute_result"
    }
   ],
   "source": [
    "base_path_similarity_matrices = BASE_PATH_PROJECT / 'model_similarities_bootstrap'\n",
    "\n",
    "sim_metrics = [\n",
    "    'cka_kernel_rbf_unbiased_sigma_0.2',\n",
    "    # 'cka_kernel_rbf_unbiased_sigma_0.4',\n",
    "    # 'cka_kernel_linear_unbiased',\n",
    "    # 'rsa_method_correlation_corr_method_spearman',\n",
    "]\n",
    "\n",
    "model_configs, allowed_models = load_model_configs_and_allowed_models(\n",
    "    path=\"../scripts/configs/models_config_anchor_models.json\",\n",
    "    exclude_models=[],\n",
    "    exclude_alignment=True,\n",
    ")\n",
    "allowed_models"
   ]
  },
  {
   "cell_type": "code",
   "execution_count": 5,
   "id": "a0f4b4e7-fc74-414e-af00-678677865348",
   "metadata": {},
   "outputs": [],
   "source": [
    "sim_mats = load_similarity_matrices(\n",
    "    path=base_path_similarity_matrices,\n",
    "    ds_list=ds_list,\n",
    "    sim_metrics=sim_metrics,\n",
    "    allowed_models=allowed_models,\n",
    ")"
   ]
  },
  {
   "cell_type": "code",
   "execution_count": 6,
   "id": "89bc736f-2363-4fd4-8f19-e0d8fb3afdd1",
   "metadata": {},
   "outputs": [],
   "source": [
    "stackes_sim_mats = {}\n",
    "for sim_metric, data_dict in sim_mats.items():\n",
    "    stackes_sim_mats[sim_metric] = np.stack(list(data_dict.values()), axis=0)"
   ]
  },
  {
   "cell_type": "code",
   "execution_count": 7,
   "id": "cf95d0ce-119e-4d69-bc0e-b744f043f330",
   "metadata": {},
   "outputs": [],
   "source": [
    "def prepare_sim_data(one_metric_data):\n",
    "    iu1 = np.triu_indices(one_metric_data.shape[-1], k=1)\n",
    "    flattened_data = one_metric_data[:,iu1[0], iu1[1]]\n",
    "    return flattened_data \n",
    "    "
   ]
  },
  {
   "cell_type": "code",
   "execution_count": 8,
   "id": "785b603d-fbbd-4d31-bd25-e127f05f39d9",
   "metadata": {},
   "outputs": [],
   "source": [
    "flattened_stacked_sim_mats = {}\n",
    "for sim_metric, data_dict in stackes_sim_mats.items():\n",
    "    flattened_stacked_sim_mats[sim_metric] = prepare_sim_data(data_dict)"
   ]
  },
  {
   "cell_type": "code",
   "execution_count": 9,
   "id": "332c03aa-aa5c-4b08-95cd-449f8747f171",
   "metadata": {},
   "outputs": [
    {
     "data": {
      "text/plain": [
       "['OpenCLIP RN50, OpenCLIP ViT-L',\n",
       " 'OpenCLIP RN50, DINOv2 ViT-L',\n",
       " 'OpenCLIP RN50, SimCLR RN50',\n",
       " 'OpenCLIP RN50, ResNet-50',\n",
       " 'OpenCLIP RN50, ViT-L',\n",
       " 'OpenCLIP ViT-L, DINOv2 ViT-L',\n",
       " 'OpenCLIP ViT-L, SimCLR RN50',\n",
       " 'OpenCLIP ViT-L, ResNet-50',\n",
       " 'OpenCLIP ViT-L, ViT-L',\n",
       " 'DINOv2 ViT-L, SimCLR RN50',\n",
       " 'DINOv2 ViT-L, ResNet-50',\n",
       " 'DINOv2 ViT-L, ViT-L',\n",
       " 'SimCLR RN50, ResNet-50',\n",
       " 'SimCLR RN50, ViT-L',\n",
       " 'ResNet-50, ViT-L']"
      ]
     },
     "execution_count": 9,
     "metadata": {},
     "output_type": "execute_result"
    }
   ],
   "source": [
    "# get model pairs \n",
    "iu1 = np.triu_indices(len(allowed_models), k=1)\n",
    "M1 = sim_mats[sim_metrics[0]][ds_list[0]].index[iu1[0]].tolist()\n",
    "M2 = sim_mats[sim_metrics[0]][ds_list[0]].columns[iu1[1]].tolist()\n",
    "xlbls = [f'{anchor_name_mapping[m1]}, {anchor_name_mapping[m2]}' for m1, m2 in zip(M1, M2)]\n",
    "xlbls"
   ]
  },
  {
   "cell_type": "code",
   "execution_count": 10,
   "id": "f2a10543-d32f-43d7-9dda-c51228d911fd",
   "metadata": {},
   "outputs": [],
   "source": [
    "df_sim_mats = {}\n",
    "for sim_metric, data_dict in flattened_stacked_sim_mats.items():\n",
    "    df_sim_mats[sim_metric] = pd.DataFrame(data_dict, columns=xlbls)"
   ]
  },
  {
   "cell_type": "code",
   "execution_count": 11,
   "id": "e9b1a8d3-ff9e-47c2-9e74-90ac9c63c784",
   "metadata": {},
   "outputs": [],
   "source": [
    "n = len(flattened_stacked_sim_mats.keys())"
   ]
  },
  {
   "cell_type": "code",
   "execution_count": 12,
   "id": "80c0e3d4-c9eb-43e8-b376-c7637ec84423",
   "metadata": {},
   "outputs": [
    {
     "name": "stderr",
     "output_type": "stream",
     "text": [
      "/tmp/ipykernel_3579607/1762333541.py:15: UserWarning: set_ticklabels() should only be used with a fixed number of ticks, i.e. after set_ticks() or using a FixedLocator.\n",
      "  ax.set_xticklabels(xlbls, rotation=90, ha='right',  fontsize=fontsize);\n"
     ]
    },
    {
     "name": "stdout",
     "output_type": "stream",
     "text": [
      "stored img at /home/space/diverse_priors/results_rebuttal/plots/experiment_bootstrap/distr_boxplot_cka_values_500_reps_cka_kernel_rbf_unbiased_sigma_0.2_v3.pdf.\n"
     ]
    }
   ],
   "source": [
    "n = len(flattened_stacked_sim_mats.keys())\n",
    "\n",
    "fontsize = 14\n",
    "\n",
    "fig, axes = plt.subplots(nrows=n, ncols=1, figsize=(8, n*7), sharex=True)\n",
    "\n",
    "for  i, (sim_metric, data) in enumerate(flattened_stacked_sim_mats.items()):\n",
    "    try:\n",
    "        ax = axes[i]\n",
    "    except:\n",
    "        ax = axes\n",
    "\n",
    "        \n",
    "    sns.boxplot(data, ax=ax)\n",
    "    ax.set_xticklabels(xlbls, rotation=90, ha='right',  fontsize=fontsize);\n",
    "    ax.set_title(sim_metric_name_mapping[sim_metric], fontsize=fontsize+1)\n",
    "\n",
    "plt.yticks(fontsize=fontsize)\n",
    "plt.ylim([0.25, 0.93])\n",
    "fig.tight_layout()\n",
    "\n",
    "included_sims = \"_\".join(list(flattened_stacked_sim_mats.keys()))\n",
    "\n",
    "save_or_show(fig, storing_path / f'distr_boxplot_cka_values_500_reps_{included_sims}_v3.pdf', SAVE)"
   ]
  },
  {
   "cell_type": "code",
   "execution_count": null,
   "id": "64250d6b-32ed-4173-9941-61fb9527c1a3",
   "metadata": {},
   "outputs": [],
   "source": [
    "for sim_metric, df in df_sim_mats.items():\n",
    "    df_stats = df.describe(percentiles=[0.025, 0.05, 0.25, 0.5, 0.75, 0.95, 0.975]).T\n",
    "    df_stats['CI_95'] = df_stats['97.5%'] - df_stats['2.5%']\n",
    "    if SAVE:\n",
    "        df_stats.to_csv(storing_path / f'distr_stats_{sim_metric}.csv')\n",
    "        print(storing_path / f'distr_stats_{sim_metric}.csv')\n",
    "    else:\n",
    "        print(sim_metric_name_mapping[sim_metric])\n",
    "        display(df_stats)"
   ]
  },
  {
   "cell_type": "code",
   "execution_count": null,
   "id": "4e0e3f0a-92b6-4f15-9a1c-e28f9efb6792",
   "metadata": {},
   "outputs": [],
   "source": []
  }
 ],
 "metadata": {
  "kernelspec": {
   "display_name": "Python 3 (ipykernel)",
   "language": "python",
   "name": "python3"
  },
  "language_info": {
   "codemirror_mode": {
    "name": "ipython",
    "version": 3
   },
   "file_extension": ".py",
   "mimetype": "text/x-python",
   "name": "python",
   "nbconvert_exporter": "python",
   "pygments_lexer": "ipython3",
   "version": "3.9.20"
  }
 },
 "nbformat": 4,
 "nbformat_minor": 5
}
