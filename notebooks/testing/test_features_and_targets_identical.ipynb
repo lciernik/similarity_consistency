{
 "cells": [
  {
   "cell_type": "code",
   "execution_count": 1,
   "id": "1c2f8501-52a3-45f7-8aea-958d1fc21360",
   "metadata": {},
   "outputs": [],
   "source": [
    "import json\n",
    "from pathlib import Path\n",
    "\n",
    "import torch"
   ]
  },
  {
   "cell_type": "code",
   "execution_count": 2,
   "id": "9c33b74c-03d9-4329-8990-064e681cccab",
   "metadata": {},
   "outputs": [],
   "source": [
    "# Define path to extracted features\n",
    "feat_root_path = Path(\"/home/space/diverse_priors/features/wds_vtab_flowers\")\n",
    "\n",
    "# Define path to extracted features\n",
    "with open('/home/lciernik/projects/divers-priors/similarity_consistency/scripts/configs/models_config_wo_alignment_vits_intermediate_allfixed.json', 'r') as f:\n",
    "    models = json.load(f)\n",
    "    model_ids = sorted(list(models.keys()))"
   ]
  },
  {
   "cell_type": "code",
   "execution_count": 3,
   "id": "de205665-3f43-4bef-b9a6-1a2564bf7ac7",
   "metadata": {},
   "outputs": [],
   "source": [
    "splits = ['train', 'test']"
   ]
  },
  {
   "cell_type": "code",
   "execution_count": 4,
   "id": "f2366eed-386e-48b7-9514-1815127146a6",
   "metadata": {},
   "outputs": [
    {
     "name": "stdout",
     "output_type": "stream",
     "text": [
      "36\n",
      "[] 0\n",
      "36\n"
     ]
    }
   ],
   "source": [
    "print(len(model_ids))\n",
    "models_to_remove = set()\n",
    "for model_id in model_ids:\n",
    "    for split in splits:\n",
    "        if not (feat_root_path / model_id / f\"targets_{split}.pt\").exists():\n",
    "            models_to_remove.add(model_id)\n",
    "            break\n",
    "print(sorted(list(models_to_remove)), len(models_to_remove))\n",
    "model_ids = sorted(list(set(model_ids).difference(models_to_remove)))\n",
    "print(len(model_ids))"
   ]
  },
  {
   "cell_type": "code",
   "execution_count": 5,
   "id": "f6dbdc5e-d565-41a0-a7fa-e4e3588e55b3",
   "metadata": {},
   "outputs": [
    {
     "name": "stdout",
     "output_type": "stream",
     "text": [
      "\n",
      "split='train'\n",
      "\n",
      "split='test'\n"
     ]
    }
   ],
   "source": [
    "for split in splits:\n",
    "    print(f\"\\n{split=}\")\n",
    "    tar_of_model_1 = torch.load(feat_root_path / model_ids[0] / f\"targets_{split}.pt\")\n",
    "    for model_id in model_ids:\n",
    "        curr_tar = torch.load(feat_root_path / model_id / f\"targets_{split}.pt\")\n",
    "        if not (tar_of_model_1 == curr_tar).all().item():\n",
    "            print(f\"Targets of {model_ids[0]} and {model_id} are not the same ...\")"
   ]
  },
  {
   "cell_type": "code",
   "execution_count": 6,
   "id": "4526225e-6415-4495-a249-f9d3b3c86a97",
   "metadata": {},
   "outputs": [
    {
     "name": "stdout",
     "output_type": "stream",
     "text": [
      "\n",
      "split='train'\n",
      "\n",
      "split='test'\n"
     ]
    }
   ],
   "source": [
    "for split in splits:\n",
    "    print(f\"\\n{split=}\")\n",
    "    tar_of_model_1 = torch.load(feat_root_path / model_ids[0] / f\"features_{split}.pt\")\n",
    "    m_1_n_samples = tar_of_model_1.shape[0]\n",
    "    for model_id in model_ids:\n",
    "        curr_tar = torch.load(feat_root_path / model_id / f\"features_{split}.pt\")\n",
    "        m_2_n_samples = curr_tar.shape[0]\n",
    "        if m_1_n_samples != m_2_n_samples:\n",
    "            print(f\"Targets of {model_ids[0]} and {model_id} are not the same ...\")\n",
    "            print(model_ids[0], tar_of_model_1.shape)\n",
    "            print(model_id, curr_tar.shape)"
   ]
  },
  {
   "cell_type": "code",
   "execution_count": null,
   "id": "2677050e-a482-4d3f-b1a9-4441a5b4de85",
   "metadata": {},
   "outputs": [],
   "source": []
  }
 ],
 "metadata": {
  "kernelspec": {
   "display_name": "Python 3 (ipykernel)",
   "language": "python",
   "name": "python3"
  },
  "language_info": {
   "codemirror_mode": {
    "name": "ipython",
    "version": 3
   },
   "file_extension": ".py",
   "mimetype": "text/x-python",
   "name": "python",
   "nbconvert_exporter": "python",
   "pygments_lexer": "ipython3",
   "version": "3.9.20"
  }
 },
 "nbformat": 4,
 "nbformat_minor": 5
}
