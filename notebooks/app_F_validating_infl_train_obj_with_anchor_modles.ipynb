{
 "cells": [
  {
   "cell_type": "markdown",
   "id": "6be2edce4be9ce26",
   "metadata": {},
   "source": [
    "## Notebook appendix F: *Validating training objective effects through controlled anchor model analysis*\n",
    "\n",
    "This notebook creates the correlation distribution boxplot for appendix F, when model sets art restricted to the anchor models. In especially, we compute the correlation of representational similarities measured on all paris of datasets, where we only consider representational similarities of model pairs that contain an anchor model and models from different training objective. In the notation of the main paper, we consider the anchor models :OpenCLIP RN50, OpenCLIP ViT-L, SimCLR RN50, DINOv2 ViT-L, ResNet-50, and ViT-L. Each anchor model, is contained in a single-element model set, e.g., $\\Phi_{\\text{OpenCLIP RN50}}$. Then we compute the distributions e.g.,  $\\mathbf{R}(\\Phi_{\\text{OpenCLIP RN50,}}, \\Phi_{SSL})$."
   ]
  },
  {
   "cell_type": "code",
   "execution_count": 1,
   "id": "51850cf9-6dc1-46d3-a709-590b5dac4723",
   "metadata": {},
   "outputs": [],
   "source": [
    "import matplotlib.pyplot as plt\n",
    "import numpy as np\n",
    "import pandas as pd\n",
    "import seaborn as sns\n",
    "# import starbars\n",
    "from scipy.stats import ranksums\n",
    "# from statsmodels.stats.multitest import multipletests\n",
    "\n",
    "from constants import (\n",
    "    BASE_PATH_RESULTS,\n",
    "    anchor_name_mapping,\n",
    "    cat_color_mapping,\n",
    "    cat_name_mapping,\n",
    "    ds_list_sim_file,\n",
    "    exclude_models,\n",
    "    exclude_models_w_mae,\n",
    "    fontsizes,\n",
    "    fontsizes_cols,\n",
    "    model_config_file,\n",
    "    model_size_order,\n",
    "    sim_metric_name_mapping\n",
    ")\n",
    "from helper import (\n",
    "    load_all_datasetnames_n_info,\n",
    "    load_model_configs_and_allowed_models,\n",
    "    pp_storing_path,\n",
    "    save_or_show\n",
    ")"
   ]
  },
  {
   "cell_type": "markdown",
   "id": "dd6f126d202b0e55",
   "metadata": {},
   "source": [
    "#### Global variables"
   ]
  },
  {
   "cell_type": "code",
   "execution_count": 2,
   "id": "662a5072-6caf-4891-b2de-bdc8f73d043f",
   "metadata": {},
   "outputs": [
    {
     "name": "stdout",
     "output_type": "stream",
     "text": [
      "agg_pearsonr_all_ds_rbf02_n_linear.csv\n",
      "\n"
     ]
    },
    {
     "data": {
      "text/plain": [
       "PosixPath('/home/space/diverse_priors/results_rebuttal/plots/experiment_anchor_models_rbf02/agg_pearsonr_all_ds_rbf02_n_linear')"
      ]
     },
     "execution_count": 2,
     "metadata": {},
     "output_type": "execute_result"
    }
   ],
   "source": [
    "# Data loading\n",
    "ds_list, ds_info = load_all_datasetnames_n_info(ds_list_sim_file, verbose=False)\n",
    "\n",
    "# Define similarity metrics\n",
    "sim_metrics = [\n",
    "    # 'cka_kernel_rbf_unbiased_sigma_0.4',\n",
    "    'cka_kernel_rbf_unbiased_sigma_0.2',\n",
    "    'cka_kernel_linear_unbiased',\n",
    "]\n",
    "sim_metrics_mapped = [sim_metric_name_mapping[k] for k in sim_metrics]\n",
    "\n",
    "# Define available aggregated data\n",
    "available_data = [\n",
    "    'agg_pearsonr_all_ds.csv',\n",
    "    'agg_pearsonr_all_ds_with_rsa.csv',\n",
    "    'agg_spearmanr_all_ds.csv',\n",
    "    'agg_spearmanr_all_ds_with_rsa.csv',\n",
    "    'agg_pearsonr_all_ds_rbf02_n_linear.csv',\n",
    "    'agg_pearsonr_all_ds_wo_mae_rbf02_n_linear.csv'\n",
    "]\n",
    "\n",
    "## Define aggregated data path\n",
    "curr_data = available_data[-2]\n",
    "print(curr_data)\n",
    "agg_data_path = BASE_PATH_RESULTS / f'aggregated/r_coeff_dist/with_anchor_models/{curr_data}'\n",
    "assert agg_data_path.exists(), f'Path does not exist: {agg_data_path}. Aggregated correlation coefficients across all dataset pairs not found, please run aggregate_consistencies_for_model_set_pairs.ipynb first.'\n",
    "\n",
    "## Version and plotting info\n",
    "version = 'arxiv'\n",
    "curr_fontsizes = fontsizes if version == 'arxiv' else fontsizes_cols\n",
    "\n",
    "SAVE = True\n",
    "folder = f'{curr_data.split(\".\")[0]}'\n",
    "storing_path = pp_storing_path(\n",
    "    # BASE_PATH_RESULTS / 'plots' / 'final' / version / 'app_F_distr_corr_anchor_models' / folder, \n",
    "    BASE_PATH_RESULTS / 'plots' / 'experiment_anchor_models_rbf02' / folder, \n",
    "    SAVE)\n",
    "storing_path"
   ]
  },
  {
   "cell_type": "code",
   "execution_count": 3,
   "id": "8ae721ed-8f2c-448f-8aab-cf0aae7a5cf2",
   "metadata": {},
   "outputs": [],
   "source": [
    "# Define anchor models\n",
    "anchors = [\n",
    "    'OpenCLIP_RN50_openai',\n",
    "    'simclr-rn50',\n",
    "    'resnet50',\n",
    "    'OpenCLIP_ViT-L-14_openai',\n",
    "    'dinov2-vit-large-p14',\n",
    "    'vit_large_patch16_224',\n",
    "]\n",
    "\n",
    "anchor_nm_val_list = list(anchor_name_mapping.values())\n",
    "anchor_nm_val_list_v2 = [anchor_name_mapping[mid] for mid in anchors]\n",
    "\n",
    "# Define columns\n",
    "anchor_col = 'Anchor Model'\n",
    "sim_metric_col = 'Similarity metric'\n",
    "comp_cat_col = 'Comparison category'\n",
    "comp_cat_orig_col = 'Comparison category (orig. name)'\n",
    "comp_val_col = 'Comparison values'\n",
    "r_col = 'r coeff'"
   ]
  },
  {
   "cell_type": "markdown",
   "id": "78ef5e50cfc5b732",
   "metadata": {},
   "source": [
    "#### Load model configurations and allowed models"
   ]
  },
  {
   "cell_type": "code",
   "execution_count": 4,
   "id": "b8880667-9e7d-4aa6-a9dd-efe2c4a6ac53",
   "metadata": {},
   "outputs": [
    {
     "name": "stdout",
     "output_type": "stream",
     "text": [
      "Nr. models original=64\n"
     ]
    }
   ],
   "source": [
    "curr_excl_models = exclude_models_w_mae if 'mae' in curr_data else exclude_models\n",
    "\n",
    "model_configs, allowed_models = load_model_configs_and_allowed_models(\n",
    "    path=model_config_file,\n",
    "    exclude_models=curr_excl_models,\n",
    "    exclude_alignment=True,\n",
    ")"
   ]
  },
  {
   "cell_type": "markdown",
   "id": "ed7ce70cd8e28dc1",
   "metadata": {},
   "source": [
    "#### Load aggregated data"
   ]
  },
  {
   "cell_type": "code",
   "execution_count": 5,
   "id": "374bcbff-f0d6-4e46-9f47-52ab251b2a44",
   "metadata": {},
   "outputs": [],
   "source": [
    "r_df = pd.read_csv(agg_data_path)\n",
    "r_df = r_df[r_df[anchor_col].isin(anchors)].copy().reset_index(drop=True)\n",
    "r_df[anchor_col] = r_df[anchor_col].map(anchor_name_mapping)\n",
    "r_df = r_df[r_df[sim_metric_col].isin(sim_metrics_mapped)]\n",
    "r_df = r_df[r_df['DS 1'].isin(ds_list) & r_df['DS 2'].isin(ds_list)].copy().reset_index(drop=True)"
   ]
  },
  {
   "cell_type": "code",
   "execution_count": 6,
   "id": "fa30eec1-09b2-463e-8276-ce54212d1abb",
   "metadata": {},
   "outputs": [],
   "source": [
    "r_df[comp_val_col] = r_df[comp_val_col].map(cat_name_mapping)"
   ]
  },
  {
   "cell_type": "markdown",
   "id": "2abe0eadf260d098",
   "metadata": {},
   "source": [
    "#### Helper functions"
   ]
  },
  {
   "cell_type": "code",
   "execution_count": 7,
   "id": "35e55e5e-ea34-4af1-be06-f96f31fa4173",
   "metadata": {},
   "outputs": [],
   "source": [
    "def get_pairs(df, strata_col):\n",
    "    tuple_list = df[[strata_col, sim_metric_col]].value_counts().sort_index().index.tolist()\n",
    "    tuple_list = [(v1, v2) for v1, v2 in tuple_list if v1 != 'All']\n",
    "    pairs = [(a, b) for i, a in enumerate(tuple_list) for j, b in enumerate(tuple_list) if i < j and a[1] == b[1]]\n",
    "    return pairs\n",
    "\n",
    "\n",
    "def get_config_data(df, config, strata_col):\n",
    "    return df[(df[strata_col] == config[0]) & (df[sim_metric_col] == config[1])]\n",
    "\n",
    "\n",
    "def get_pvals_pairs(pairs, df, strata_col, alpha=0.05):\n",
    "    p_values = []\n",
    "    for (config1, config2) in pairs:\n",
    "        dat1 = get_config_data(df, config1, strata_col)[r_col].reset_index(drop=True)\n",
    "        dat2 = get_config_data(df, config2, strata_col)[r_col].reset_index(drop=True)\n",
    "        idx2drop = list(np.where(dat1.isna())[0]) + list(np.where(dat2.isna())[0])\n",
    "        dat1.drop(labels=idx2drop, inplace=True)\n",
    "        dat2.drop(labels=idx2drop, inplace=True)\n",
    "        assert len(dat1) == len(dat2)\n",
    "        stat, p_value = ranksums(dat1, dat2)\n",
    "        p_values.append(p_value)\n",
    "    return p_values\n",
    "\n",
    "\n",
    "def add_sign_bars(anchor_pairs, anchor_corr_pvals, axes, strata_col, alpha=0.01):\n",
    "    import starbars\n",
    "    total_annots = 0\n",
    "    for i, anchor in enumerate(anchors):\n",
    "        curr_pairs = anchor_pairs[anchor]\n",
    "        curr_corr_pvals = anchor_corr_pvals[anchor]\n",
    "        annotations = [(config1, config2, pval) for (config1, config2), pval in zip(curr_pairs, curr_corr_pvals) if\n",
    "                       pval < alpha]\n",
    "        total_annots += len(annotations)\n",
    "        starbars.draw_annotation(annotations, ax=axes[i])\n",
    "        axes[i].get_legend().remove()\n",
    "\n",
    "\n",
    "def correct_anchor_pvalues(anchor_pairs, anchor_pvals):\n",
    "    from statsmodels.stats.multitest import multipletests\n",
    "    anchor_corr_pvals = {}\n",
    "    all_pvals = list(np.concatenate(list(anchor_pvals.values())))\n",
    "    # corrected_all_pvals = multipletests(all_pvals, method='hs')[1]\n",
    "    corrected_all_pvals = multipletests(all_pvals, method='bonferroni')[1]\n",
    "    # corrected_all_pvals = multipletests(all_pvals, method='fdr_bh')[1]\n",
    "    idx = 0\n",
    "    for anchor in anchors:\n",
    "        nr_pvals = len(anchor_pairs[anchor])\n",
    "        anchor_corr_pvals[anchor] = corrected_all_pvals[idx:(idx + nr_pvals)]\n",
    "        idx += nr_pvals\n",
    "    return anchor_corr_pvals\n",
    "\n",
    "\n",
    "def plot_box_per_sim_metric(subset, strata_name, strata_col, strata_col_orig, add_significances):\n",
    "    n_rows = 2\n",
    "    n_cols = 3\n",
    "\n",
    "    fig, axes = plt.subplots(n_rows, n_cols, figsize=(n_cols * 3.55, n_rows * 2.6), sharey=True, sharex=False)\n",
    "    axes = axes.flatten()\n",
    "\n",
    "    handles, labels = [], []\n",
    "    tab10_cols = list(sns.color_palette(\"tab10\").as_hex())\n",
    "    comparison_type = list(subset[strata_col].unique())\n",
    "    anchor_pairs = {}\n",
    "    anchor_pvals = {}\n",
    "    for i, anchor in enumerate(anchors):\n",
    "        anchor_data = subset[subset[anchor_col] == anchor_name_mapping[anchor]]\n",
    "\n",
    "        ## Compute pairwise distribution statistics\n",
    "        anchor_pairs[anchor] = get_pairs(anchor_data, strata_col)\n",
    "        anchor_pvals[anchor] = get_pvals_pairs(anchor_pairs[anchor], anchor_data, strata_col, alpha=0.01)\n",
    "\n",
    "        sns.boxplot(\n",
    "            data=anchor_data,\n",
    "            x=sim_metric_col,\n",
    "            y=r_col,\n",
    "            hue=strata_col,\n",
    "            hue_order=model_size_order if strata_name == 'Model size' else None,\n",
    "            palette=cat_color_mapping,\n",
    "            ax=axes[i]\n",
    "        )\n",
    "        strata_type = cat_name_mapping[model_configs.loc[anchor][strata_col_orig]]\n",
    "        axes[i].set_title(f'{anchor_name_mapping[anchor]} ({strata_type})',\n",
    "                          color=cat_color_mapping[strata_type], fontsize=curr_fontsizes['title'])\n",
    "        axes[i].set_xlabel(\"\")\n",
    "\n",
    "        axes[i].legend(loc='best')\n",
    "        if i == 0:\n",
    "            handles, labels = axes[i].get_legend_handles_labels()\n",
    "        if (i) % n_cols == 0:\n",
    "            y_lbl = \"Correlation coefficient\" if version == 'arxiv' else \"Correlation coeff.\"\n",
    "            axes[i].set_ylabel(y_lbl, fontsize=curr_fontsizes['label'])\n",
    "        else:\n",
    "            axes[i].set_ylabel(\"\")\n",
    "        axes[i].tick_params('both', labelsize=curr_fontsizes['ticks'])\n",
    "        for mid in axes[i].get_xticks()[:-1]:\n",
    "            axes[i].axvline(mid + 0.5, ls=':', c='black', alpha=0.5, lw=1.5)\n",
    "\n",
    "    fig.subplots_adjust(hspace=-.2, wspace=-.15)\n",
    "\n",
    "    if add_significances:\n",
    "        anchor_corr_pvals = correct_anchor_pvalues(anchor_pairs, anchor_pvals)\n",
    "        add_sign_bars(anchor_pairs, anchor_corr_pvals, axes, strata_col, alpha=0.01)\n",
    "    else:\n",
    "        for ax in axes:\n",
    "            ax.get_legend().remove()\n",
    "\n",
    "    ncols = subset[strata_col].nunique()\n",
    "    fig.legend(handles, labels,\n",
    "               # bbox_to_anchor=(1.15, 0.60),\n",
    "               bbox_to_anchor=(0.51, -0.05),\n",
    "               loc='center',\n",
    "               borderaxespad=0.,\n",
    "               fontsize=curr_fontsizes['legend'],\n",
    "               frameon=False,\n",
    "               ncols=ncols\n",
    "               )\n",
    "\n",
    "    fig.tight_layout()  # Make room for the legend\n",
    "    return fig"
   ]
  },
  {
   "cell_type": "markdown",
   "id": "dd539ce28e9f7f6d",
   "metadata": {},
   "source": [
    "#### Plot boxplot per comparison category"
   ]
  },
  {
   "cell_type": "code",
   "execution_count": 8,
   "id": "fa2ca6cf2c9cfa5b",
   "metadata": {},
   "outputs": [
    {
     "name": "stdout",
     "output_type": "stream",
     "text": [
      "stored img at /home/space/diverse_priors/results_rebuttal/plots/experiment_anchor_models_rbf02/agg_pearsonr_all_ds_rbf02_n_linear/dist_r_coeffs_Architecture_only_box_per_sim_metric.pdf.\n",
      "stored img at /home/space/diverse_priors/results_rebuttal/plots/experiment_anchor_models_rbf02/agg_pearsonr_all_ds_rbf02_n_linear/dist_r_coeffs_Model_size_only_box_per_sim_metric.pdf.\n",
      "stored img at /home/space/diverse_priors/results_rebuttal/plots/experiment_anchor_models_rbf02/agg_pearsonr_all_ds_rbf02_n_linear/dist_r_coeffs_Training_data_only_box_per_sim_metric.pdf.\n",
      "stored img at /home/space/diverse_priors/results_rebuttal/plots/experiment_anchor_models_rbf02/agg_pearsonr_all_ds_rbf02_n_linear/dist_r_coeffs_Training_objective_only_box_per_sim_metric.pdf.\n"
     ]
    }
   ],
   "source": [
    "r_df.loc[r_df[comp_cat_col] == 'Dataset size', comp_cat_col] = 'Training data'\n",
    "add_significances = False\n",
    "# for include_all in [True, False]:\n",
    "for include_all in [False]:\n",
    "    if not include_all:\n",
    "        subset = r_df[r_df[comp_val_col] != 'All']\n",
    "    else:\n",
    "        subset = r_df\n",
    "    for strata_cat, df in subset.groupby(comp_cat_col):\n",
    "        strata_cat_orig = df[comp_cat_orig_col].unique()[0]\n",
    "        fig = plot_box_per_sim_metric(df, strata_cat, comp_val_col, strata_cat_orig, add_significances)\n",
    "        save_or_show(fig,\n",
    "                     storing_path / f'dist_r_coeffs_{strata_cat.replace(\" \", \"_\")}_only_box_per_sim_metric{\"_include_all\" if include_all else \"\"}.pdf',\n",
    "                     SAVE)"
   ]
  },
  {
   "cell_type": "code",
   "execution_count": null,
   "id": "c345f1e4-4651-441d-9986-7ee81c69a17f",
   "metadata": {},
   "outputs": [],
   "source": []
  },
  {
   "cell_type": "code",
   "execution_count": null,
   "id": "debc3c80-e720-496c-814e-be5fd2c64279",
   "metadata": {},
   "outputs": [],
   "source": []
  }
 ],
 "metadata": {
  "kernelspec": {
   "display_name": "Python 3 (ipykernel)",
   "language": "python",
   "name": "python3"
  },
  "language_info": {
   "codemirror_mode": {
    "name": "ipython",
    "version": 3
   },
   "file_extension": ".py",
   "mimetype": "text/x-python",
   "name": "python",
   "nbconvert_exporter": "python",
   "pygments_lexer": "ipython3",
   "version": "3.9.20"
  }
 },
 "nbformat": 4,
 "nbformat_minor": 5
}
