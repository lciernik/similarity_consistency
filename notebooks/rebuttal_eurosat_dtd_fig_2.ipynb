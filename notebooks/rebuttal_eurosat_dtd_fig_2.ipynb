{
 "cells": [
  {
   "cell_type": "markdown",
   "id": "82a7ffa482d63197",
   "metadata": {},
   "source": [
    "<!-- ## Notebook for section 4.2: *Do representational similarities transfer across datasets?*\n",
    "This notebook creates the figures for the section 4.2. It shows the similarity matrices for three datasets (ImageNet-1k, Flowers, and PCAM) as well as the mean and std similarity matrices over all 23 datasets. Furthermore, it shows the mean vs. std scatter plot of the tan-transformed CKA linear values and the comparison of different similarity metrics. -->\n",
    "\n",
    "# TODO fill"
   ]
  },
  {
   "cell_type": "code",
   "execution_count": 1,
   "id": "221cff81-a939-48c3-bb17-d2f9ed2cc37a",
   "metadata": {},
   "outputs": [],
   "source": [
    "import matplotlib.gridspec as gridspec\n",
    "import matplotlib.patches as patches\n",
    "import matplotlib.pyplot as plt\n",
    "import numpy as np\n",
    "import pandas as pd\n",
    "import seaborn as sns\n",
    "from scipy import stats\n",
    "from scipy.cluster.hierarchy import dendrogram, linkage\n",
    "\n",
    "from constants import (\n",
    "    BASE_PATH_PROJECT,\n",
    "    BASE_PATH_RESULTS,\n",
    "    ds_list_sim_file,\n",
    "    exclude_models,\n",
    "    exclude_models_w_mae,\n",
    "    fontsizes,\n",
    "    fontsizes_cols,\n",
    "    model_config_file,\n",
    "    sim_metric_name_mapping\n",
    ")\n",
    "from helper import (\n",
    "    get_fmt_name,\n",
    "    load_all_datasetnames_n_info,\n",
    "    load_model_configs_and_allowed_models,\n",
    "    load_similarity_matrices,\n",
    "    pp_storing_path,\n",
    "    save_or_show\n",
    ")\n"
   ]
  },
  {
   "cell_type": "markdown",
   "id": "dce9462431f48339",
   "metadata": {},
   "source": [
    "#### Global variables"
   ]
  },
  {
   "cell_type": "code",
   "execution_count": 2,
   "id": "3d502146-22b8-42e5-9355-3b5f779ebebc",
   "metadata": {},
   "outputs": [
    {
     "name": "stdout",
     "output_type": "stream",
     "text": [
      "\n"
     ]
    }
   ],
   "source": [
    "# Define the path to the similarity matrices\n",
    "base_path_similarity_matrices = BASE_PATH_PROJECT / 'model_similarities'\n",
    "\n",
    "# Define similarity metrics to be used\n",
    "sim_metrics = [\n",
    "    'cka_kernel_rbf_unbiased_sigma_0.4',\n",
    "    'cka_kernel_linear_unbiased',\n",
    "    'rsa_method_correlation_corr_method_spearman',\n",
    "]\n",
    "\n",
    "# Load used dataset names\n",
    "ds_list, ds_info = load_all_datasetnames_n_info(ds_list_sim_file, verbose=False)\n",
    "\n",
    "# Define model filtering suffix\n",
    "suffix = ''  # '_wo_mae'\n",
    "\n",
    "# Version\n",
    "version = 'arxiv'  #'arxiv'\n",
    "\n",
    "# Define storing information\n",
    "SAVE = True\n",
    "storing_path = pp_storing_path(BASE_PATH_RESULTS / 'plots' / 'q2_eurosat_dtd_plots' / 'fig_2', SAVE)"
   ]
  },
  {
   "cell_type": "markdown",
   "id": "82e6f369c8df1536",
   "metadata": {},
   "source": [
    "#### Load data"
   ]
  },
  {
   "cell_type": "code",
   "execution_count": 3,
   "id": "8c2daa51-0e4c-46c9-bdaa-c0e4cc582647",
   "metadata": {},
   "outputs": [
    {
     "name": "stdout",
     "output_type": "stream",
     "text": [
      "Nr. models original=64\n"
     ]
    }
   ],
   "source": [
    "# Load model configurations and allowed models\n",
    "curr_excl_models = []\n",
    "if suffix:\n",
    "    curr_excl_models = exclude_models_w_mae if 'mae' in suffix else exclude_models\n",
    "\n",
    "model_configs, allowed_models = load_model_configs_and_allowed_models(\n",
    "    path=model_config_file,\n",
    "    exclude_models=curr_excl_models,\n",
    "    exclude_alignment=True,\n",
    ")\n"
   ]
  },
  {
   "cell_type": "code",
   "execution_count": 4,
   "id": "1d3b3a2c14b82691",
   "metadata": {},
   "outputs": [],
   "source": [
    "# Load similarity matrices\n",
    "sim_mats = load_similarity_matrices(\n",
    "    path=base_path_similarity_matrices,\n",
    "    ds_list=ds_list,\n",
    "    sim_metrics=sim_metrics,\n",
    "    allowed_models=allowed_models,\n",
    ")"
   ]
  },
  {
   "cell_type": "markdown",
   "id": "3ce21ab9865bd9c9",
   "metadata": {},
   "source": [
    "#### Plotting helper functions"
   ]
  },
  {
   "cell_type": "code",
   "execution_count": 5,
   "id": "1cbee446-f2b5-4e9e-9d8d-9a62cf36cd59",
   "metadata": {},
   "outputs": [],
   "source": [
    "def compute_ordering(sim_mat):\n",
    "    \"\"\"\n",
    "    Compute the ordering of the models in the similarity matrix based on the average linkage clustering.\n",
    "    \"\"\"\n",
    "    if not isinstance(sim_mat, pd.DataFrame):\n",
    "        sim_mat = pd.DataFrame(sim_mat)\n",
    "    dist_mat = 1 - sim_mat.values\n",
    "    upper_tri_indices = np.triu_indices_from(dist_mat, k=1)\n",
    "    linkage_matrix = linkage(dist_mat[upper_tri_indices], method='average')\n",
    "    idx_new = np.array(dendrogram(linkage_matrix)['leaves'])\n",
    "    plt.close()\n",
    "    return idx_new"
   ]
  },
  {
   "cell_type": "markdown",
   "id": "c3da4c4fd4bfde05",
   "metadata": {},
   "source": [
    "#### Compute the mean and std similarity matrices using the similarity matrices over all datasets and different preprocessing methods \n"
   ]
  },
  {
   "cell_type": "code",
   "execution_count": 6,
   "id": "543353b78c3c8f8d",
   "metadata": {},
   "outputs": [],
   "source": [
    "mean_sim_mats = {}\n",
    "std_sim_mats = {}\n",
    "\n",
    "mean_tanh_sim_mats = {}\n",
    "std_tanh_sim_mats = {}\n",
    "\n",
    "mean_tan_sim_mats = {}\n",
    "std_tan_sim_mats = {}\n",
    "\n",
    "mean_arccos_sim_mats = {}\n",
    "std_arccos_sim_mats = {}\n",
    "\n",
    "ordering = {}\n",
    "\n",
    "\n",
    "def build_mean_std(df):\n",
    "    mean = pd.DataFrame(df.mean(axis=0), index=allowed_models, columns=allowed_models)\n",
    "    std = pd.DataFrame(df.std(axis=0), index=allowed_models, columns=allowed_models)\n",
    "    return mean, std\n",
    "\n",
    "\n",
    "for sim_metric in sim_metrics:\n",
    "    result = np.stack(list(sim_mats[sim_metric].values()), axis=0)\n",
    "    \n",
    "    mean_sim_mats[sim_metric], std_sim_mats[sim_metric] = build_mean_std(result)\n",
    "\n",
    "    ordering[sim_metric] = np.array(allowed_models)[compute_ordering(mean_sim_mats[sim_metric])]\n",
    "\n",
    "    mean_tanh_sim_mats[sim_metric], std_tanh_sim_mats[sim_metric] = build_mean_std(np.tanh(result))\n",
    "\n",
    "    mean_tan_sim_mats[sim_metric], std_tan_sim_mats[sim_metric] = build_mean_std(np.tan(result))\n",
    "    \n",
    "    mean_arccos_sim_mats[sim_metric], std_arccos_sim_mats[sim_metric] = build_mean_std(np.arccos(result))"
   ]
  },
  {
   "cell_type": "markdown",
   "id": "5683e9e0bee2eecc",
   "metadata": {},
   "source": [
    "### Similarity matrices for three datasets as well as mean and std similarity matrix over all datasets\n",
    "The following cells construct and plot the similarity matrices (CKA linear) for three datasets (ImageNet-1k, Flowers, and PCAM) as well as the mean and std similarity matrices over all 23 datasets. "
   ]
  },
  {
   "cell_type": "code",
   "execution_count": 7,
   "id": "dd8efc38e3dd42f7",
   "metadata": {},
   "outputs": [],
   "source": [
    "ds_lists = dict(\n",
    "    ds_row_1_v2=['imagenet-subset-10k', 'wds_vtab_flowers', 'wds_vtab_pcam', 'wds_vtab_eurosat', 'wds_vtab_dtd'],\n",
    "    ds_row_2_v2=['imagenet-subset-10k', 'wds_vtab_eurosat', 'wds_vtab_dtd'],\n",
    "    ds_row_3_v2=['imagenet-subset-10k', 'wds_vtab_cifar100', 'wds_vtab_caltech101', 'wds_country211'], # natural-images (multi)\n",
    "    ds_row_4_v2=['wds_vtab_flowers', 'wds_vtab_pets', 'wds_cars', 'wds_gtsrb'], # natural-images (single)\n",
    "    ds_row_5_v2=['wds_vtab_eurosat', 'wds_vtab_pcam', 'wds_vtab_diabetic_retinopathy', 'wds_vtab_resisc45'], # specialized\n",
    "    ds_row_6_v2=['wds_fer2013', 'wds_vtab_dmlab', 'wds_vtab_dtd'], # structured \n",
    ")"
   ]
  },
  {
   "cell_type": "code",
   "execution_count": 8,
   "id": "dc79eece-0bf8-4e3d-8e44-81e268de5eba",
   "metadata": {},
   "outputs": [
    {
     "name": "stdout",
     "output_type": "stream",
     "text": [
      "cka_kernel_linear_unbiased\n",
      "stored img at /home/space/diverse_priors/results_rebuttal/plots/q2_eurosat_dtd_plots/fig_2/mean_std_sim_matrix_cka_kernel_linear_unbiased_DSimagenet-subset-10k_wds_vtab_flowers_wds_vtab_pcam_wds_vtab_eurosat_wds_vtab_dtd.pdf.\n",
      "stored img at /home/space/diverse_priors/results_rebuttal/plots/q2_eurosat_dtd_plots/fig_2/mean_std_sim_matrix_cka_kernel_linear_unbiased_DSimagenet-subset-10k_wds_vtab_eurosat_wds_vtab_dtd.pdf.\n",
      "stored img at /home/space/diverse_priors/results_rebuttal/plots/q2_eurosat_dtd_plots/fig_2/mean_std_sim_matrix_cka_kernel_linear_unbiased_DSimagenet-subset-10k_wds_vtab_cifar100_wds_vtab_caltech101_wds_country211.pdf.\n",
      "stored img at /home/space/diverse_priors/results_rebuttal/plots/q2_eurosat_dtd_plots/fig_2/mean_std_sim_matrix_cka_kernel_linear_unbiased_DSwds_vtab_flowers_wds_vtab_pets_wds_cars_wds_gtsrb.pdf.\n",
      "stored img at /home/space/diverse_priors/results_rebuttal/plots/q2_eurosat_dtd_plots/fig_2/mean_std_sim_matrix_cka_kernel_linear_unbiased_DSwds_vtab_eurosat_wds_vtab_pcam_wds_vtab_diabetic_retinopathy_wds_vtab_resisc45.pdf.\n",
      "stored img at /home/space/diverse_priors/results_rebuttal/plots/q2_eurosat_dtd_plots/fig_2/mean_std_sim_matrix_cka_kernel_linear_unbiased_DSwds_fer2013_wds_vtab_dmlab_wds_vtab_dtd.pdf.\n"
     ]
    }
   ],
   "source": [
    "def plot_one_heatmap(df, ordering, title, ax, cmap, vmin=0, vmax=1, cbar=False):\n",
    "    df = df.loc[ordering, ordering]\n",
    "    g = sns.heatmap(df, ax=ax, vmin=vmin, vmax=vmax, cbar=cbar, cmap=cmap)\n",
    "    new_title = \"\\n(N\".join(title.split(' (N'))\n",
    "    new_title = \"\\n(S\".join(new_title.split(' (S'))\n",
    "    ax.set_title(new_title, fontsize=fontsizes['title'], y=1.01)\n",
    "    ax.axis('off')\n",
    "    return g\n",
    "\n",
    "\n",
    "def add_bounding_box(ax, start_row, start_col, end_row, end_col, color='red', linewidth=2):\n",
    "    rect = patches.Rectangle((start_col, start_row), end_col - start_col, end_row - start_row,\n",
    "                             fill=False, edgecolor=color, linewidth=linewidth)\n",
    "    ax.add_patch(rect)\n",
    "\n",
    "\n",
    "def add_all_boxes(ax, color_boxes):\n",
    "    for pos, col in zip(color_boxes, ['yellow', 'white', 'cyan']):\n",
    "        add_bounding_box(ax, *pos, color=col)\n",
    "\n",
    "\n",
    "def get_mat_plot(curr_sim_metrics_data, mean_res, std_res, ds_list, ordering, color_boxes):\n",
    "    # Create a GridSpec layout with extra columns for the colorbars\n",
    "    fig = plt.figure(figsize=(3 * (len(ds_list) + 2) + 1.5, 2.7))\n",
    "\n",
    "    gs = gridspec.GridSpec(1, len(ds_list) + 4, width_ratios=[0.05] + [1] * (len(ds_list) + 2) + [0.05])\n",
    "\n",
    "    vmin, vmax = 0, 1\n",
    "\n",
    "    # Plot the heatmaps for each dataset\n",
    "    axs = []\n",
    "    for i, ds in enumerate(ds_list):\n",
    "        if i == 0:\n",
    "            ax_bar = fig.add_subplot(gs[i])\n",
    "        ax = fig.add_subplot(gs[i + 1])\n",
    "        df = curr_sim_metrics_data[ds]\n",
    "        g = plot_one_heatmap(df, ordering, get_fmt_name(ds, ds_info), ax, 'rocket', vmin, vmax)\n",
    "        if i == 0:\n",
    "            cbar = plt.colorbar(g.collections[0], cax=ax_bar, format=\"{x:.2f}\", location='left')\n",
    "            cbar.outline.set_edgecolor('none')\n",
    "            cbar.ax.tick_params(labelsize=fontsizes['ticks'])\n",
    "        add_all_boxes(ax, color_boxes)\n",
    "\n",
    "    # Plot the mean and std heatmaps\n",
    "    mean_ax = fig.add_subplot(gs[-3])\n",
    "    std_ax = fig.add_subplot(gs[-2])\n",
    "    std_ax_bar = fig.add_subplot(gs[-1])\n",
    "\n",
    "    mean_heatmap = plot_one_heatmap(mean_res, ordering, \"Mean CKA over $\\mathcal{D}$\", mean_ax, 'rocket', vmin, vmax,\n",
    "                                    False)\n",
    "    add_all_boxes(mean_ax, color_boxes)\n",
    "    std_heatmap = plot_one_heatmap(std_res, ordering, \"Std CKA over $\\mathcal{D}$\", std_ax, 'mako', std_res.min().min(),\n",
    "                                   std_res.max().max(), False)\n",
    "    add_all_boxes(std_ax, color_boxes)\n",
    "    cbar = plt.colorbar(std_heatmap.collections[0], cax=std_ax_bar, format=\"{x:.2f}\")\n",
    "    cbar.outline.set_edgecolor('none')\n",
    "    cbar.ax.tick_params(labelsize=fontsizes['ticks'])\n",
    "\n",
    "    fig.subplots_adjust(wspace=0.1, hspace=0.1)\n",
    "    return fig\n",
    "\n",
    "\n",
    "bboxes = {\n",
    "    'cka_kernel_rbf_unbiased_sigma_0.4': [(11, 11, 25, 25), (27, 27, 38, 38), (40, 40, 51, 51)],\n",
    "    'cka_kernel_linear_unbiased': [(7, 7, 21, 21), (23, 23, 34, 34), (40, 40, 51, 51)],\n",
    "}\n",
    "\n",
    "for sim_metric in ['cka_kernel_linear_unbiased']:\n",
    "    print(sim_metric)\n",
    "    curr_sim_metrics_data = sim_mats[sim_metric]\n",
    "    mean_res = mean_sim_mats[sim_metric]\n",
    "    std_res = std_sim_mats[sim_metric]\n",
    "    curr_ordering = ordering[sim_metric]\n",
    "    color_boxes = bboxes[sim_metric]\n",
    "    for ds_list in ds_lists.values():\n",
    "        fig = get_mat_plot(curr_sim_metrics_data, mean_res, std_res, ds_list, curr_ordering, color_boxes)\n",
    "        save_or_show(fig, storing_path / f'mean_std_sim_matrix_{sim_metric}_DS{\"_\".join(ds_list)}{suffix}.pdf', SAVE)"
   ]
  },
  {
   "cell_type": "code",
   "execution_count": null,
   "id": "db5bbd7c-7514-46c8-9beb-807a23a31e1d",
   "metadata": {},
   "outputs": [],
   "source": []
  }
 ],
 "metadata": {
  "kernelspec": {
   "display_name": "Python 3 (ipykernel)",
   "language": "python",
   "name": "python3"
  },
  "language_info": {
   "codemirror_mode": {
    "name": "ipython",
    "version": 3
   },
   "file_extension": ".py",
   "mimetype": "text/x-python",
   "name": "python",
   "nbconvert_exporter": "python",
   "pygments_lexer": "ipython3",
   "version": "3.9.20"
  }
 },
 "nbformat": 4,
 "nbformat_minor": 5
}
