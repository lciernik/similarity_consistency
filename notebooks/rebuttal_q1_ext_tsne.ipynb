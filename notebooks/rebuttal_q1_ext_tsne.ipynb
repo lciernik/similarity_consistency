{
 "cells": [
  {
   "cell_type": "markdown",
   "id": "87bf34eef911ad4",
   "metadata": {},
   "source": [
    "<!-- ## Notebook 4.3: *Do representational similarities cluster according to model categories?*\n",
    "This notebook create the figures for the section 4.3. The notebook creates scatter plots of the representational similarities of the models in a 2D space colored by the model categories. The TNSE embeddings are computed solely for three datasets. -->\n",
    "# TODO: fill"
   ]
  },
  {
   "cell_type": "code",
   "execution_count": 1,
   "id": "221cff81-a939-48c3-bb17-d2f9ed2cc37a",
   "metadata": {},
   "outputs": [],
   "source": [
    "import matplotlib.pyplot as plt\n",
    "import pandas as pd\n",
    "import seaborn as sns\n",
    "from sklearn.cluster import SpectralClustering, AffinityPropagation\n",
    "from sklearn.manifold import MDS, TSNE\n",
    "\n",
    "from constants import (\n",
    "    BASE_PATH_PROJECT,\n",
    "    BASE_PATH_RESULTS,\n",
    "    cat_color_mapping,\n",
    "    cat_name_mapping,\n",
    "    ds_list_sim_file,\n",
    "    exclude_models,\n",
    "    exclude_models_w_mae,\n",
    "    fontsizes,\n",
    "    fontsizes_cols,\n",
    "    model_cat_mapping,\n",
    "    model_config_file,\n",
    "    model_size_order,\n",
    "    sim_metric_name_mapping\n",
    ")\n",
    "from helper import (\n",
    "    load_all_datasetnames_n_info,\n",
    "    load_model_configs_and_allowed_models,\n",
    "    load_similarity_matrices,\n",
    "    pp_storing_path,\n",
    "    save_or_show\n",
    ")"
   ]
  },
  {
   "cell_type": "markdown",
   "id": "b116d57253d2daca",
   "metadata": {},
   "source": [
    "#### Global variables"
   ]
  },
  {
   "cell_type": "code",
   "execution_count": 2,
   "id": "3d502146-22b8-42e5-9355-3b5f779ebebc",
   "metadata": {},
   "outputs": [
    {
     "name": "stdout",
     "output_type": "stream",
     "text": [
      "\n"
     ]
    },
    {
     "data": {
      "text/plain": [
       "PosixPath('/home/space/diverse_priors/results_rebuttal/plots/q1_ssl_pairs')"
      ]
     },
     "execution_count": 2,
     "metadata": {},
     "output_type": "execute_result"
    }
   ],
   "source": [
    "# Define the path to the similarity matrices\n",
    "base_path_similarity_matrices = BASE_PATH_PROJECT / 'model_similarities'\n",
    "\n",
    "# Define similarity metrics to be used\n",
    "sim_metrics = [\n",
    "    'cka_kernel_rbf_unbiased_sigma_0.4',\n",
    "    'cka_kernel_linear_unbiased',\n",
    "]\n",
    "\n",
    "# Load used dataset names\n",
    "ds_list, ds_info = load_all_datasetnames_n_info(ds_list_sim_file, verbose=False)\n",
    "\n",
    "# Define datasets of interest\n",
    "ds_oi = ['imagenet-subset-10k', 'wds_vtab_flowers', 'wds_vtab_pcam']\n",
    "\n",
    "# Define model filtering suffix\n",
    "suffix = ''  #'_wo_mae'\n",
    "\n",
    "version = 'arxiv'\n",
    "\n",
    "SAVE = True\n",
    "storing_path = pp_storing_path(BASE_PATH_RESULTS / 'plots' / 'q1_ssl_pairs', SAVE)\n",
    "storing_path"
   ]
  },
  {
   "cell_type": "markdown",
   "id": "5b70cf873a2fb6c7",
   "metadata": {},
   "source": [
    "#### Load model configurations and similarity matrices"
   ]
  },
  {
   "cell_type": "code",
   "execution_count": 3,
   "id": "8c2daa51-0e4c-46c9-bdaa-c0e4cc582647",
   "metadata": {},
   "outputs": [
    {
     "name": "stdout",
     "output_type": "stream",
     "text": [
      "Nr. models original=64\n"
     ]
    }
   ],
   "source": [
    "# Load model configurations and allowed models\n",
    "curr_excl_models = []\n",
    "if suffix:\n",
    "    curr_excl_models = exclude_models_w_mae if 'mae' in suffix else exclude_models\n",
    "\n",
    "model_configs, allowed_models = load_model_configs_and_allowed_models(\n",
    "    path=model_config_file,\n",
    "    exclude_models=curr_excl_models,\n",
    "    exclude_alignment=True,\n",
    ")\n"
   ]
  },
  {
   "cell_type": "code",
   "execution_count": 4,
   "id": "1d3b3a2c14b82691",
   "metadata": {},
   "outputs": [],
   "source": [
    "# Load similarity matrices\n",
    "sim_mats = load_similarity_matrices(\n",
    "    path=base_path_similarity_matrices,\n",
    "    ds_list=ds_list,\n",
    "    sim_metrics=sim_metrics,\n",
    "    allowed_models=allowed_models,\n",
    ")"
   ]
  },
  {
   "cell_type": "markdown",
   "id": "9c0b98dc8675ae69",
   "metadata": {},
   "source": [
    "### Embedding and clustering of representational similarities\n",
    "The representational similarities are embedded in a 2D space using t-SNE and MDS. The representational similarities can be used to compute the dissimilarity between the models. The dissimilarity is computed as 1 - similarity. These dissimilarities can be directly used as input for the embedding methods."
   ]
  },
  {
   "cell_type": "code",
   "execution_count": 5,
   "id": "5f969959-5ba1-40b4-8291-d1a88d0ffa39",
   "metadata": {},
   "outputs": [],
   "source": [
    "## Define embedding and clustering methods\n",
    "def get_embedder(manifold_method, n_components=6):\n",
    "    if manifold_method == 'mds':\n",
    "\n",
    "        embedder = MDS(n_components=n_components,\n",
    "                       normalized_stress='auto',\n",
    "                       dissimilarity='precomputed',\n",
    "                       random_state=42,\n",
    "                       eps=1e-4,\n",
    "                       n_init=5)\n",
    "    else:\n",
    "        embedder = TSNE(n_components=n_components,\n",
    "                        learning_rate='auto',\n",
    "                        init='random',\n",
    "                        perplexity=5,\n",
    "                        metric='precomputed',\n",
    "                        random_state=42)\n",
    "\n",
    "    emb_cols = [f\"{manifold_method.upper()} {i + 1}\" for i in range(n_components)]\n",
    "    return embedder, emb_cols\n",
    "\n",
    "\n",
    "def get_clusterer(cluster_method, n_clusters=6):\n",
    "    if cluster_method == 'spectral':\n",
    "        clustering = SpectralClustering(n_clusters=n_clusters,\n",
    "                                        affinity='precomputed',\n",
    "                                        assign_labels='kmeans',\n",
    "                                        random_state=42)\n",
    "    else:\n",
    "        clustering = AffinityPropagation(damping=0.75,\n",
    "                                         affinity='precomputed',\n",
    "                                         random_state=42)\n",
    "    return clustering\n"
   ]
  },
  {
   "cell_type": "code",
   "execution_count": 6,
   "id": "2d805bfa-d1b3-4b33-bac1-0b8579d02548",
   "metadata": {},
   "outputs": [],
   "source": [
    "def embed_ds_list(ds_list, sim_metric, sim_matrices, embedder, emb_cols, clustering=None):\n",
    "    \"\"\"\n",
    "    Embeds the similarity matrices of the datasets in the dataset list in a low-dimensional embedding using the given similarity metric and embedding method.\n",
    "    \"\"\"\n",
    "    sim_data = sim_matrices[sim_metric]\n",
    "    embed_list = []\n",
    "    for ds in ds_list:\n",
    "        sim_mat = sim_data[ds]\n",
    "\n",
    "        dissim_mat = 1 - sim_mat\n",
    "\n",
    "        embs = embedder.fit_transform(dissim_mat.values)\n",
    "        embs = pd.DataFrame(embs, columns=emb_cols)\n",
    "        embs['Model'] = sim_mat.index.tolist()\n",
    "        embs['Dataset'] = ds_info.loc[ds, 'name']\n",
    "        for cat, cat_name in model_cat_mapping.items():\n",
    "            embs[cat_name] = model_configs.loc[sim_mat.index, cat].map(cat_name_mapping).values\n",
    "\n",
    "        if clustering:\n",
    "            embs['Cluster'] = clustering.fit_predict(sim_mat.values, y=None)\n",
    "            embs['Cluster'] = embs['Cluster'].astype('category')\n",
    "\n",
    "        embed_list.append(embs)\n",
    "\n",
    "    all_embeddings = pd.concat(embed_list, axis=0)\n",
    "    return all_embeddings"
   ]
  },
  {
   "cell_type": "code",
   "execution_count": 7,
   "id": "0e8af307-1384-4d90-b838-7ec3ce0cf06c",
   "metadata": {},
   "outputs": [],
   "source": [
    "embedder, emb_cols = get_embedder('tsne', 2)"
   ]
  },
  {
   "cell_type": "markdown",
   "id": "e5bdabc2c554dff3",
   "metadata": {},
   "source": [
    "For each similarity metric, we first embedd all similarity matrices (one per dataset) into the low dimensional space. The embeddings are then visualized in a scatter plot where the points are colored according to the model categories. The scatter plots are created for each dataset and similarity metric."
   ]
  },
  {
   "cell_type": "code",
   "execution_count": 8,
   "id": "6e19fd1e-6a8b-4caf-b1e3-70c95b0cd206",
   "metadata": {},
   "outputs": [
    {
     "data": {
      "text/plain": [
       "array(['ImageNet-1k', 'Flowers', 'PCAM'], dtype=object)"
      ]
     },
     "execution_count": 8,
     "metadata": {},
     "output_type": "execute_result"
    }
   ],
   "source": [
    "sim_metric = 'cka_kernel_linear_unbiased'\n",
    "all_embeddings = embed_ds_list(ds_oi, sim_metric, sim_mats, embedder, emb_cols, None)\n",
    "all_embeddings['Dataset'].unique()"
   ]
  },
  {
   "cell_type": "code",
   "execution_count": 9,
   "id": "543572c2-aa4a-4827-9f37-cda9c5e8b148",
   "metadata": {},
   "outputs": [
    {
     "name": "stdout",
     "output_type": "stream",
     "text": [
      "Stored figure at fn=PosixPath('/home/space/diverse_priors/results_rebuttal/plots/q1_ssl_pairs/tsne_all_cka_kernel_linear_unbiased.pdf')\n"
     ]
    }
   ],
   "source": [
    "n_ds = all_embeddings['Dataset'].nunique()\n",
    "fig, axes = plt.subplots(nrows=1, ncols=n_ds, figsize=(n_ds*4, 4))\n",
    "\n",
    "# Handle the case where there's only one dataset\n",
    "if n_ds == 1:\n",
    "    axes = [axes]\n",
    "\n",
    "# Store handles and labels for the legend\n",
    "handles, labels = None, None\n",
    "\n",
    "for i, ax in enumerate(axes):\n",
    "    ds = all_embeddings['Dataset'].unique()[i]\n",
    "    tmp_df = all_embeddings[all_embeddings['Dataset'] == ds]\n",
    "    \n",
    "    # Create scatterplot\n",
    "    scatter = sns.scatterplot(\n",
    "        data=tmp_df,\n",
    "        x='TSNE 1',\n",
    "        y='TSNE 2',\n",
    "        hue='Training objective',\n",
    "        style='Training objective',\n",
    "        ax=ax,\n",
    "        s=50,\n",
    "        markers=['o', 's', '^'],\n",
    "        alpha=0.75\n",
    "    )\n",
    "    \n",
    "    # Keep axes but remove ticks\n",
    "    ax.tick_params(axis='both', which='both', length=0)\n",
    "    ax.set_xticklabels([])\n",
    "    ax.set_yticklabels([])\n",
    "    \n",
    "    # Add dataset title\n",
    "    ax.set_title(ds, fontsize=14)\n",
    "    \n",
    "    # Add axis labels if needed\n",
    "    if i == 0:  # Only for first subplot, or remove this condition to add to all\n",
    "        ax.set_ylabel('TSNE 2', fontsize=12)\n",
    "    else:\n",
    "        ax.set_ylabel('')\n",
    "    ax.set_xlabel('TSNE 1', fontsize=12)\n",
    "    \n",
    "    # Store handle and labels for legend (from the last plot)\n",
    "    if i == len(axes) - 1:\n",
    "        handles, labels = scatter.get_legend_handles_labels()\n",
    "    \n",
    "    # Remove individual legends\n",
    "    if ax.get_legend():\n",
    "        ax.get_legend().remove()\n",
    "\n",
    "# Add a single legend outside all subplots\n",
    "fig.legend(\n",
    "    handles, \n",
    "    labels, \n",
    "    loc='upper center', \n",
    "    bbox_to_anchor=(0.5, 0.1),  # Position at bottom center\n",
    "    ncol=min(len(labels), 3),  # Adjust number of columns\n",
    "    frameon=False,\n",
    "    title=\"\",\n",
    "    fontsize=14\n",
    ")\n",
    "\n",
    "plt.tight_layout(rect=[0, 0.1, 1, 0.95])  # Adjust layout to make room for legend\n",
    "\n",
    "if SAVE:\n",
    "    fn = storing_path / f\"tsne_all_{sim_metric}.pdf\"\n",
    "    fig.savefig(fn)\n",
    "    print(f\"Stored figure at {fn=}\")\n",
    "    plt.close(fig)\n",
    "else:\n",
    "    fig.show()"
   ]
  },
  {
   "cell_type": "code",
   "execution_count": 10,
   "id": "484bee92-5904-46bf-8fb4-ad86759fb604",
   "metadata": {},
   "outputs": [
    {
     "name": "stdout",
     "output_type": "stream",
     "text": [
      "Stored figure at fn=PosixPath('/home/space/diverse_priors/results_rebuttal/plots/q1_ssl_pairs/tsne_imagenet-1k_cka_kernel_linear_unbiased.html')\n",
      "Stored figure at fn=PosixPath('/home/space/diverse_priors/results_rebuttal/plots/q1_ssl_pairs/tsne_flowers_cka_kernel_linear_unbiased.html')\n",
      "Stored figure at fn=PosixPath('/home/space/diverse_priors/results_rebuttal/plots/q1_ssl_pairs/tsne_pcam_cka_kernel_linear_unbiased.html')\n"
     ]
    }
   ],
   "source": [
    "import plotly.express as px\n",
    "\n",
    "\n",
    "for ds in all_embeddings['Dataset'].unique():\n",
    "    tmp_df = all_embeddings[all_embeddings['Dataset'] == ds]\n",
    "    \n",
    "    # Create the scatterplot with Plotly Express\n",
    "    fig = px.scatter(\n",
    "        tmp_df,\n",
    "        x='TSNE 1',\n",
    "        y='TSNE 2',\n",
    "        hover_data='Model',\n",
    "        color='Training objective',\n",
    "        template='plotly_white'\n",
    "    )\n",
    "    \n",
    "    # Update layout for a cleaner look\n",
    "    fig.update_layout(\n",
    "        title=f't-SNE of {sim_metric_name_mapping[sim_metric]} matrices evaluated on {ds}',\n",
    "        legend_title_text='Training objective',\n",
    "        xaxis_title='TSNE 1',\n",
    "        yaxis_title='TSNE 2'\n",
    "    )\n",
    "    \n",
    "    if SAVE:\n",
    "        fn = storing_path / f\"tsne_{ds.lower()}_{sim_metric}.html\"\n",
    "        fig.write_html(fn)\n",
    "        print(f\"Stored figure at {fn=}\")\n",
    "    else:\n",
    "        fig.show()"
   ]
  },
  {
   "cell_type": "code",
   "execution_count": null,
   "id": "716bd9c0-6c9f-4fea-8d7d-14c2a73b6463",
   "metadata": {},
   "outputs": [],
   "source": []
  }
 ],
 "metadata": {
  "kernelspec": {
   "display_name": "Python 3 (ipykernel)",
   "language": "python",
   "name": "python3"
  },
  "language_info": {
   "codemirror_mode": {
    "name": "ipython",
    "version": 3
   },
   "file_extension": ".py",
   "mimetype": "text/x-python",
   "name": "python",
   "nbconvert_exporter": "python",
   "pygments_lexer": "ipython3",
   "version": "3.9.20"
  }
 },
 "nbformat": 4,
 "nbformat_minor": 5
}
