{
 "cells": [
  {
   "cell_type": "markdown",
   "id": "ba95ca02-1f2b-45e3-b4d0-1a2b696c0248",
   "metadata": {},
   "source": [
    "## Notebook for the aggregation model similarities across for different datasets and similarity matrices.\n",
    "This notebook gathers the model representational similarities across different datasets and similarity metrics. It stores them into a single CSV file with the following columns:\n",
    "- Similarity metric\n",
    "- Dataset\n",
    "- Model 1\n",
    "- Model 2\n",
    "- Similarity value: The representational similarity value between model 1 and model 2.\n",
    "- Objective pair : Containing the training objective type of model 1 and model 2.\n",
    "- Architecture pair : Containing the architecture type of model 1 and model 2.\n",
    "- Dataset pair : Containing the dataset type of model 1 and model 2.\n",
    "- Model size pair : Containing the model size type of model 1 and model 2."
   ]
  },
  {
   "cell_type": "code",
   "execution_count": 1,
   "id": "6f76510c-3062-4c6f-9c36-88b1e9218635",
   "metadata": {},
   "outputs": [
    {
     "name": "stdout",
     "output_type": "stream",
     "text": [
      "../scripts/configs/webdatasets_w_insub30k.txt\n"
     ]
    }
   ],
   "source": [
    "import numpy as np\n",
    "import pandas as pd\n",
    "\n",
    "from constants import (\n",
    "    BASE_PATH_PROJECT,\n",
    "    BASE_PATH_RESULTS,\n",
    "    ds_list_sim_file,\n",
    "    exclude_models,\n",
    "    model_config_file,\n",
    "    sim_metric_name_mapping\n",
    ")\n",
    "from helper import (\n",
    "    load_all_datasetnames_n_info,\n",
    "    load_model_configs_and_allowed_models,\n",
    "    load_similarity_matrices,\n",
    "    pp_storing_path\n",
    ")\n",
    "print(ds_list_sim_file)"
   ]
  },
  {
   "cell_type": "markdown",
   "id": "918724dd27b4a569",
   "metadata": {},
   "source": [
    "#### Global variables"
   ]
  },
  {
   "cell_type": "code",
   "execution_count": 2,
   "id": "00493259-741a-491c-88fe-ab761d79c560",
   "metadata": {},
   "outputs": [
    {
     "name": "stdout",
     "output_type": "stream",
     "text": [
      "['wds_fer2013', 'wds_voc2007', 'wds_cars', 'wds_fgvc_aircraft', 'wds_stl10', 'wds_gtsrb', 'wds_country211', 'wds_vtab_caltech101', 'wds_vtab_cifar10', 'wds_vtab_cifar100', 'wds_vtab_diabetic_retinopathy', 'wds_vtab_dmlab', 'wds_vtab_dtd', 'wds_vtab_eurosat', 'wds_vtab_flowers', 'wds_vtab_pets', 'wds_vtab_pcam', 'wds_vtab_resisc45', 'wds_vtab_svhn', 'entity30', 'living17', 'nonliving26', 'imagenet-subset-30k'] 23\n",
      "\n"
     ]
    }
   ],
   "source": [
    "# base_path_similarity_matrices = BASE_PATH_PROJECT / 'model_similarities'\n",
    "\n",
    "# sim_metrics = [\n",
    "#     'cka_kernel_rbf_unbiased_sigma_0.4',\n",
    "#     'cka_kernel_linear_unbiased',\n",
    "#     'rsa_method_correlation_corr_method_spearman'\n",
    "# ]\n",
    "\n",
    "base_path_similarity_matrices = BASE_PATH_PROJECT / 'model_similarities_rbf02'\n",
    "\n",
    "sim_metrics = [\n",
    "    'cka_kernel_rbf_unbiased_sigma_0.2'\n",
    "]\n",
    "\n",
    "sim_metrics_mapped = [sim_metric_name_mapping[k] for k in sim_metrics]\n",
    "\n",
    "ds_list, _ = load_all_datasetnames_n_info(ds_list_sim_file, verbose=True)\n",
    "\n",
    "storing_path = pp_storing_path(BASE_PATH_RESULTS / f'aggregated/model_sims', True)"
   ]
  },
  {
   "cell_type": "markdown",
   "id": "5bcb55d383bee62c",
   "metadata": {},
   "source": [
    "#### Load data"
   ]
  },
  {
   "cell_type": "code",
   "execution_count": 3,
   "id": "8f9fc269-7957-4bd0-a8e7-d73ee350a6c8",
   "metadata": {},
   "outputs": [
    {
     "name": "stdout",
     "output_type": "stream",
     "text": [
      "Nr. models original=64\n",
      "(64, 14)\n"
     ]
    }
   ],
   "source": [
    "model_configs, allowed_models = load_model_configs_and_allowed_models(\n",
    "    path=model_config_file,\n",
    "    exclude_models=exclude_models,\n",
    "    exclude_alignment=True,\n",
    ")\n",
    "print(model_configs.shape)"
   ]
  },
  {
   "cell_type": "code",
   "execution_count": 4,
   "id": "44eaa2e3-c8fe-47ba-937a-68d80d273ffd",
   "metadata": {},
   "outputs": [],
   "source": [
    "sim_mats = load_similarity_matrices(\n",
    "    path=base_path_similarity_matrices,\n",
    "    ds_list=ds_list,\n",
    "    sim_metrics=sim_metrics,\n",
    "    allowed_models=allowed_models,\n",
    ")\n",
    "sim_mats = {sim_metric_name_mapping[k]: v for k, v in sim_mats.items()}"
   ]
  },
  {
   "cell_type": "markdown",
   "id": "cbc3404231430ef5",
   "metadata": {},
   "source": [
    "#### Helper functions"
   ]
  },
  {
   "cell_type": "code",
   "execution_count": 5,
   "id": "a879d432-1159-4726-a8cb-1abdbb35d9ef",
   "metadata": {},
   "outputs": [],
   "source": [
    "def flatten_sim_values(sim_mat):\n",
    "    iu2 = np.triu_indices(sim_mat.shape[0], k=1)\n",
    "    flat_sim_mat = pd.DataFrame({\n",
    "        'Model 1': sim_mat.index.values[iu2[0]],\n",
    "        'Model 2': sim_mat.columns.values[iu2[1]],\n",
    "        'Similarity value': sim_mat.values[iu2],\n",
    "    })\n",
    "    return flat_sim_mat\n",
    "\n",
    "\n",
    "def sort_tuple(tup):\n",
    "    return tuple(sorted(tup))\n",
    "\n",
    "\n",
    "def get_cat_pair(row, cat):\n",
    "    pair_info = (\n",
    "        model_configs.loc[row['Model 1'], cat],\n",
    "        model_configs.loc[row['Model 2'], cat]\n",
    "    )\n",
    "    return sort_tuple(pair_info)\n",
    "\n",
    "\n",
    "def process_sim_mat(sim_mat, metric, ds):\n",
    "    flat_sim_mat = flatten_sim_values(sim_mat)\n",
    "    flat_sim_mat['Similarity metric'] = metric\n",
    "    flat_sim_mat['DS'] = ds\n",
    "    flat_sim_mat['Objective pair'] = flat_sim_mat.apply(get_cat_pair, axis=1, cat='objective')\n",
    "    flat_sim_mat['Architecture pair'] = flat_sim_mat.apply(get_cat_pair, axis=1, cat='architecture_class')\n",
    "    flat_sim_mat['Dataset pair'] = flat_sim_mat.apply(get_cat_pair, axis=1, cat='dataset_class')\n",
    "    flat_sim_mat['Model size pair'] = flat_sim_mat.apply(get_cat_pair, axis=1, cat='size_class')\n",
    "    cols = flat_sim_mat.columns.tolist()\n",
    "    flat_sim_mat = flat_sim_mat[cols[3:5] + cols[:3] + cols[5:]]\n",
    "    return flat_sim_mat\n",
    "\n",
    "\n",
    "def get_similarity_dataframe(similarity_matrices):\n",
    "    dfs = []\n",
    "    for sim_metric, sim_mats_w_metric in similarity_matrices.items():\n",
    "        for ds, curr_sim_mat in sim_mats_w_metric.items():\n",
    "            dfs.append(process_sim_mat(curr_sim_mat, sim_metric, ds))\n",
    "    df = pd.concat(dfs)\n",
    "    return df"
   ]
  },
  {
   "cell_type": "markdown",
   "id": "ff150003dc2616cb",
   "metadata": {},
   "source": [
    "### Aggregate similarities across datasets and similarity metrics"
   ]
  },
  {
   "cell_type": "code",
   "execution_count": 6,
   "id": "a68e1dee-76a6-4bea-b78a-10a677a9d4d0",
   "metadata": {},
   "outputs": [],
   "source": [
    "sim_df = get_similarity_dataframe(sim_mats)"
   ]
  },
  {
   "cell_type": "code",
   "execution_count": 7,
   "id": "f699e04f-3e1b-4323-ac9c-cee2182cbce3",
   "metadata": {},
   "outputs": [
    {
     "name": "stdout",
     "output_type": "stream",
     "text": [
      "Storing aggrgated sims at /home/space/diverse_priors/results_rebuttal/aggregated/model_sims/all_metric_ds_model_pair_similarity_only_rbf02.csv\n"
     ]
    }
   ],
   "source": [
    "fn = storing_path / 'all_metric_ds_model_pair_similarity_only_rbf02.csv'\n",
    "print(f\"Storing aggrgated sims at {fn}\")\n",
    "sim_df.to_csv(fn, index=False)"
   ]
  }
 ],
 "metadata": {
  "kernelspec": {
   "display_name": "Python 3 (ipykernel)",
   "language": "python",
   "name": "python3"
  },
  "language_info": {
   "codemirror_mode": {
    "name": "ipython",
    "version": 3
   },
   "file_extension": ".py",
   "mimetype": "text/x-python",
   "name": "python",
   "nbconvert_exporter": "python",
   "pygments_lexer": "ipython3",
   "version": "3.9.20"
  }
 },
 "nbformat": 4,
 "nbformat_minor": 5
}
